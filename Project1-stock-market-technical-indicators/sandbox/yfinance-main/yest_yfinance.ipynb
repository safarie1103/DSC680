{
 "cells": [
  {
   "cell_type": "code",
   "execution_count": 4,
   "metadata": {
    "pycharm": {
     "is_executing": true
    }
   },
   "outputs": [
    {
     "ename": "ModuleNotFoundError",
     "evalue": "No module named 'cryptography'",
     "output_type": "error",
     "traceback": [
      "\u001b[1;31m---------------------------------------------------------------------------\u001b[0m",
      "\u001b[1;31mModuleNotFoundError\u001b[0m                       Traceback (most recent call last)",
      "Input \u001b[1;32mIn [4]\u001b[0m, in \u001b[0;36m<cell line: 1>\u001b[1;34m()\u001b[0m\n\u001b[1;32m----> 1\u001b[0m \u001b[38;5;28;01mimport\u001b[39;00m \u001b[38;5;21;01mcryptography\u001b[39;00m\n\u001b[0;32m      2\u001b[0m \u001b[38;5;28;01mimport\u001b[39;00m \u001b[38;5;21;01myfinance\u001b[39;00m \u001b[38;5;28;01mas\u001b[39;00m \u001b[38;5;21;01myf\u001b[39;00m\n\u001b[0;32m      3\u001b[0m \u001b[38;5;28;01mimport\u001b[39;00m \u001b[38;5;21;01munittest\u001b[39;00m\n",
      "\u001b[1;31mModuleNotFoundError\u001b[0m: No module named 'cryptography'"
     ]
    }
   ],
   "source": [
    "\n",
    "\n",
    "import cryptography\n",
    "import yfinance as yf\n",
    "import unittest"
   ]
  },
  {
   "cell_type": "code",
   "execution_count": null,
   "metadata": {
    "pycharm": {
     "name": "#%%\n"
    }
   },
   "outputs": [],
   "source": [
    "symbols = ['MSFT', 'IWO', 'VFINX', '^GSPC', 'BTC-USD']\n",
    "tickers = [yf.Ticker(symbol) for symbol in symbols]"
   ]
  },
  {
   "cell_type": "code",
   "execution_count": null,
   "metadata": {
    "pycharm": {
     "name": "#%%\n"
    }
   },
   "outputs": [],
   "source": [
    "class TestTicker(unittest.TestCase):\n",
    "    def test_info_history(self):\n",
    "        for ticker in tickers:\n",
    "            # always should have info and history for valid symbols\n",
    "            assert(ticker.info is not None and ticker.info != {})\n",
    "            history = ticker.history(period=\"max\")\n",
    "            assert(history.empty is False and history is not None)\n",
    "\n",
    "    def test_attributes(self):\n",
    "        for ticker in tickers:\n",
    "            ticker.isin\n",
    "            ticker.major_holders\n",
    "            ticker.institutional_holders\n",
    "            ticker.mutualfund_holders\n",
    "            ticker.dividends\n",
    "            ticker.splits\n",
    "            ticker.actions\n",
    "            ticker.shares\n",
    "            ticker.info\n",
    "            ticker.calendar\n",
    "            ticker.recommendations\n",
    "            ticker.earnings\n",
    "            ticker.quarterly_earnings\n",
    "            ticker.income_stmt\n",
    "            ticker.quarterly_income_stmt\n",
    "            ticker.balance_sheet\n",
    "            ticker.quarterly_balance_sheet\n",
    "            ticker.cashflow\n",
    "            ticker.quarterly_cashflow\n",
    "            ticker.recommendations_summary\n",
    "            ticker.analyst_price_target\n",
    "            ticker.revenue_forecasts\n",
    "            ticker.sustainability\n",
    "            ticker.options\n",
    "            ticker.news\n",
    "            ticker.earnings_trend\n",
    "            ticker.earnings_dates\n",
    "            ticker.earnings_forecasts\n",
    "\n",
    "    def test_holders(self):\n",
    "        for ticker in tickers:\n",
    "            assert(ticker.info is not None and ticker.info != {})\n",
    "            assert(ticker.major_holders is not None)\n",
    "            assert(ticker.institutional_holders is not None)\n",
    "\n",
    "\n"
   ]
  }
 ],
 "metadata": {
  "kernelspec": {
   "display_name": "Python 3 (ipykernel)",
   "language": "python",
   "name": "python3"
  },
  "language_info": {
   "codemirror_mode": {
    "name": "ipython",
    "version": 3
   },
   "file_extension": ".py",
   "mimetype": "text/x-python",
   "name": "python",
   "nbconvert_exporter": "python",
   "pygments_lexer": "ipython3",
   "version": "3.8.0"
  },
  "pycharm": {
   "stem_cell": {
    "cell_type": "raw",
    "metadata": {
     "collapsed": false
    },
    "source": []
   }
  }
 },
 "nbformat": 4,
 "nbformat_minor": 1
}
