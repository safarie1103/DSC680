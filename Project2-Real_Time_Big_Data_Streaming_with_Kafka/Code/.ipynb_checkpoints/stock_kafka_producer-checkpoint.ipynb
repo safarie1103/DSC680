{
 "cells": [
  {
   "cell_type": "markdown",
   "metadata": {},
   "source": [
    "# <font color=blue> Real Time Stock Ticker Streaming - Kafka Producer </font>\n"
   ]
  },
  {
   "cell_type": "markdown",
   "metadata": {},
   "source": [
    "Producing the streaming data, where you can use csv modules to read and publish the data to the Kafka stream.\n",
    "\n",
    "### Flight Data Overview:\n",
    "The flight-delays and cancellation data was collected and published by the U.S. Department of Transportation’s (DOT) Bureau of Transportation Statistics. This data records the flights operated by large air carriers and tracks the on-time performance of domestic flights. This data summarises various flight information such as the number of on-time, delayed, cancelled, and diverted flights published in DOT's monthly in 2015."
   ]
  },
  {
   "cell_type": "code",
   "execution_count": null,
   "metadata": {
    "pycharm": {
     "is_executing": true
    }
   },
   "outputs": [],
   "source": [
    "# import required libraries\n",
    "import pandas as pd\n",
    "import pandas\n",
    "\n",
    "from time import sleep\n",
    "from json import dumps\n",
    "from kafka import KafkaProducer\n",
    "import random\n",
    "import csv\n",
    "from datetime import timezone\n",
    "import datetime"
   ]
  },
  {
   "cell_type": "code",
   "execution_count": null,
   "metadata": {
    "pycharm": {
     "is_executing": false
    }
   },
   "outputs": [],
   "source": [
    "import yfinance as yf\n",
    "from pandas_datareader import data as pdr\n",
    "from datetime import datetime\n",
    "yf.pdr_override()"
   ]
  },
  {
   "cell_type": "code",
   "execution_count": null,
   "metadata": {},
   "outputs": [],
   "source": [
    "stock_list = ['AMAT','LRCX','WOLF','KLAC','AAPL', 'GOOG', 'MSFT', 'AMZN']\n",
    "#stock_list = ['AMAT','GOOG', 'MSFT']\n",
    "stock_list = ['AMAT']"
   ]
  },
  {
   "cell_type": "code",
   "execution_count": null,
   "metadata": {},
   "outputs": [],
   "source": [
    "\n",
    "def GetHistoricalData(stock_list,numberOfYears = 0,numberOfMonths = 4):\n",
    "    print(numberOfMonths)\n",
    "    end = datetime.now()\n",
    "    start = datetime(end.year -  numberOfYears, end.month - numberOfMonths, end.day , end.hour, end.minute,end.second)\n",
    "    \n",
    "    historicalData = []\n",
    "    for stock in stock_list:\n",
    "        print(start,end)\n",
    "        df = yf.download(stock, start, end)\n",
    "        df = df.reset_index()\n",
    "        df['Label'] = stock\n",
    "        df['Date'] = pd.to_datetime(df['Date'])\n",
    "        historicalData.append(df)\n",
    "    return(historicalData)"
   ]
  },
  {
   "cell_type": "code",
   "execution_count": null,
   "metadata": {},
   "outputs": [],
   "source": [
    "def GetLiveData(symbol):\n",
    "    ticker = yf.Ticker(symbol).info\n",
    "    market_price = ticker['regularMarketPrice']\n",
    "    market_open = ticker['regularMarketOpen']\n",
    "    market_High = ticker['regularMarketDayHigh']\n",
    "    market_Low = ticker['regularMarketDayLow']\n",
    "    market_volume = ticker['regularMarketVolume']\n",
    "    market_symbol = ticker['symbol']\n",
    "    #print('Ticker: AMAT')\n",
    "    #print('Market Price:', market_price)\n",
    "    #print('Previous Close Price:', previous_close_price)\n",
    "    liveData = {'Date':[pd.to_datetime(datetime.now())],'Open': [market_open] , 'High':[market_High],'Low':[market_Low],'Close':[market_price],'Adj Close':[market_price],'Volume':[market_volume],'Label':[market_symbol]}\n",
    "    return(pd.DataFrame(liveData))"
   ]
  },
  {
   "cell_type": "code",
   "execution_count": null,
   "metadata": {},
   "outputs": [],
   "source": [
    "historicalData = GetHistoricalData(1,0)\n"
   ]
  },
  {
   "cell_type": "code",
   "execution_count": null,
   "metadata": {},
   "outputs": [],
   "source": [
    "historicalData[0].tail()"
   ]
  },
  {
   "cell_type": "code",
   "execution_count": null,
   "metadata": {},
   "outputs": [],
   "source": [
    "liveData = GetLiveData('AMAT')\n",
    "historicalData[0] = pandas.concat([historicalData[0],liveData], ignore_index=True)"
   ]
  },
  {
   "cell_type": "code",
   "execution_count": null,
   "metadata": {},
   "outputs": [],
   "source": [
    "liveData.head()"
   ]
  },
  {
   "cell_type": "code",
   "execution_count": null,
   "metadata": {},
   "outputs": [],
   "source": [
    "historicalData = GetHistoricalData(1,0)\n",
    "\n",
    "for stock in range(len(historicalData)):\n",
    "    symbol = historicalData[stock]['Label'][0]\n",
    "    liveData = GetLiveData(symbol)\n",
    "    liveData['Date'] = pd.to_datetime(liveData['Date'])\n",
    "    historicalData[stock] = pandas.concat([historicalData[stock],liveData], ignore_index=True)\n",
    "    historicalData[stock]['Date'] =historicalData[stock]['Date'].astype(str)"
   ]
  },
  {
   "cell_type": "code",
   "execution_count": null,
   "metadata": {},
   "outputs": [],
   "source": [
    "all_data = []\n",
    "for stock in range(len(historicalData)):\n",
    "    all_data.append(historicalData[stock].to_dict(orient='records'))\n"
   ]
  },
  {
   "cell_type": "code",
   "execution_count": null,
   "metadata": {},
   "outputs": [],
   "source": [
    "topic = 'stock_ticker'\n",
    "publish_message(producer, topic, all_data)"
   ]
  },
  {
   "cell_type": "code",
   "execution_count": null,
   "metadata": {},
   "outputs": [],
   "source": [
    "df_all = df_Historical.append(df_live, ignore_index = True)\n"
   ]
  },
  {
   "cell_type": "code",
   "execution_count": null,
   "metadata": {},
   "outputs": [],
   "source": [
    "df_all.head()"
   ]
  },
  {
   "cell_type": "code",
   "execution_count": null,
   "metadata": {},
   "outputs": [],
   "source": [
    "df_all.tail()"
   ]
  },
  {
   "cell_type": "code",
   "execution_count": null,
   "metadata": {},
   "outputs": [],
   "source": [
    "df_all['Date'] =df_all['Date'].astype(str)"
   ]
  },
  {
   "cell_type": "code",
   "execution_count": null,
   "metadata": {},
   "outputs": [],
   "source": [
    "all_data = df_all.to_dict(orient='records')\n",
    "print(all_data[0])"
   ]
  },
  {
   "cell_type": "code",
   "execution_count": null,
   "metadata": {},
   "outputs": [],
   "source": [
    "len(all_data)"
   ]
  },
  {
   "cell_type": "markdown",
   "metadata": {},
   "source": [
    "## Step 3\n",
    "\n",
    "#### Create publisher and producer function\n",
    "\n",
    "Functions are taken from the Week 9 Lab material provided."
   ]
  },
  {
   "cell_type": "code",
   "execution_count": null,
   "metadata": {},
   "outputs": [],
   "source": [
    "# function that publishes the message \n",
    "def publish_message(producer_instance, topic_name, data):\n",
    "    print(data)\n",
    "    try:\n",
    "        producer_instance.send(topic_name, data)\n",
    "        \n",
    "    except Exception as ex:\n",
    "        print('Exception in publishing message.')\n",
    "        print(str(ex))\n",
    "\n",
    "        \n",
    "# function that connects the kafka producer        \n",
    "def connect_kafka_producer():\n",
    "    _producer = None\n",
    "    try:\n",
    "        _producer = KafkaProducer(bootstrap_servers=['192.168.86.48:9092'],\n",
    "                                  value_serializer=lambda x: dumps(x).encode('ascii'),\n",
    "                                  api_version=(0, 10))\n",
    "    except Exception as ex:\n",
    "        print('Exception while connecting Kafka.')\n",
    "        print(str(ex))\n",
    "    finally:\n",
    "        return _producer\n",
    " "
   ]
  },
  {
   "cell_type": "code",
   "execution_count": null,
   "metadata": {},
   "outputs": [],
   "source": [
    "producer = connect_kafka_producer()"
   ]
  },
  {
   "cell_type": "markdown",
   "metadata": {},
   "source": [
    "## Step 4\n",
    "\n",
    "#### Send desired data batches \n",
    "\n",
    "Using the above created functions we create the desired flight data batches and send them so the consumers can receive the data."
   ]
  },
  {
   "cell_type": "code",
   "execution_count": 8,
   "metadata": {},
   "outputs": [
    {
     "ename": "KeyboardInterrupt",
     "evalue": "",
     "output_type": "error",
     "traceback": [
      "\u001b[1;31m---------------------------------------------------------------------------\u001b[0m",
      "\u001b[1;31mKeyboardInterrupt\u001b[0m                         Traceback (most recent call last)",
      "Input \u001b[1;32mIn [8]\u001b[0m, in \u001b[0;36m<cell line: 1>\u001b[1;34m()\u001b[0m\n\u001b[0;32m     51\u001b[0m         iteration_counter \u001b[38;5;241m+\u001b[39m\u001b[38;5;241m=\u001b[39m \u001b[38;5;241m1\u001b[39m   \n\u001b[0;32m     53\u001b[0m                 \u001b[38;5;66;03m# send producer to sleep \u001b[39;00m\n\u001b[1;32m---> 54\u001b[0m         \u001b[43msleep\u001b[49m\u001b[43m(\u001b[49m\u001b[38;5;241;43m10\u001b[39;49m\u001b[43m)\u001b[49m\n\u001b[0;32m     55\u001b[0m     \u001b[38;5;28mprint\u001b[39m(\u001b[38;5;124m\"\u001b[39m\u001b[38;5;124mExited with \u001b[39m\u001b[38;5;124m\"\u001b[39m, iteration_counter, \u001b[38;5;124m\"\u001b[39m\u001b[38;5;124m iterations\u001b[39m\u001b[38;5;124m\"\u001b[39m)\n\u001b[0;32m     56\u001b[0m \u001b[38;5;28;01mexcept\u001b[39;00m \u001b[38;5;167;01mException\u001b[39;00m \u001b[38;5;28;01mas\u001b[39;00m ex:\n",
      "\u001b[1;31mKeyboardInterrupt\u001b[0m: "
     ]
    }
   ],
   "source": [
    "if __name__ == '__main__':\n",
    "    try:\n",
    "   \n",
    "    \n",
    "        ## SET TOPIC AND DATA TO BE SENT\n",
    "\n",
    "        topic = 'stock_ticker'\n",
    "\n",
    "        #all_data = df.to_dict(orient='records')\n",
    "\n",
    "        ## SET THE PRODUCERS\n",
    "\n",
    "        #producer = connect_kafka_producer()\n",
    "\n",
    "\n",
    "\n",
    "        ## GET DATA AND META DATA FOR EACH KEY\n",
    "\n",
    "\n",
    "        iteration_counter = 0\n",
    "\n",
    "        stock_list = ['AMAT','LRCX','WOLF','KLAC','AAPL', 'GOOG', 'MSFT', 'AMZN','IBM','CSCO','INTC']\n",
    "        #stock_list = ['AMAT','GOOG', 'MSFT']\n",
    "        #stock_list = ['AMAT']\n",
    "        # start the data publishing process\n",
    "        print('Publishing records for ', stock_list, '..')\n",
    "\n",
    "        # set a continous loop to produce and publish data\n",
    "        df_Historical = GetHistoricalData(stock_list,1,0)\n",
    "        print(len(df_Historical))\n",
    "        while True:        \n",
    "            for stock in range(len(df_Historical)):\n",
    "                symbol = df_Historical[stock]['Label'][0]\n",
    "                #liveData = GetLiveData(symbol)\n",
    "                #liveData['Date'] = pd.to_datetime(liveData['Date'])\n",
    "                #df_Historical[stock] = pandas.concat([df_Historical[stock],liveData], ignore_index=True)\n",
    "                df_Historical[stock]['Date'] = df_Historical[stock]['Date'].astype(str)\n",
    "\n",
    "            all_data = []\n",
    "            for stock in range(len(df_Historical)):\n",
    "                all_data.append(df_Historical[stock].to_dict(orient='records'))\n",
    "\n",
    "\n",
    "            publish_message(producer, topic, all_data)\n",
    "\n",
    "\n",
    "\n",
    "            if iteration_counter > 1000:\n",
    "                break\n",
    "\n",
    "            iteration_counter += 1   \n",
    "\n",
    "                    # send producer to sleep \n",
    "            sleep(10)\n",
    "        print(\"Exited with \", iteration_counter, \" iterations\")\n",
    "    except Exception as ex:\n",
    "        print(\"exception after \", iteration_counter, \" iterations\")\n",
    "        print(str(ex))\n"
   ]
  },
  {
   "cell_type": "code",
   "execution_count": null,
   "metadata": {},
   "outputs": [],
   "source": []
  },
  {
   "cell_type": "code",
   "execution_count": null,
   "metadata": {},
   "outputs": [],
   "source": []
  },
  {
   "cell_type": "code",
   "execution_count": null,
   "metadata": {},
   "outputs": [],
   "source": []
  }
 ],
 "metadata": {
  "kernelspec": {
   "display_name": "Python 3 (ipykernel)",
   "language": "python",
   "name": "python3"
  },
  "language_info": {
   "codemirror_mode": {
    "name": "ipython",
    "version": 3
   },
   "file_extension": ".py",
   "mimetype": "text/x-python",
   "name": "python",
   "nbconvert_exporter": "python",
   "pygments_lexer": "ipython3",
   "version": "3.8.0"
  }
 },
 "nbformat": 4,
 "nbformat_minor": 4
}
