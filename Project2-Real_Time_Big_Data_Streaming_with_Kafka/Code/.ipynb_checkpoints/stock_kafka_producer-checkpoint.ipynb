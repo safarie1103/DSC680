{
 "cells": [
  {
   "cell_type": "markdown",
   "metadata": {},
   "source": [
    "# <font color=blue> Real Time Stock Ticker Streaming - Kafka Producer </font>\n"
   ]
  },
  {
   "cell_type": "markdown",
   "metadata": {},
   "source": [
    "Producing the streaming data, where you can use csv modules to read and publish the data to the Kafka stream.\n",
    "\n",
    "### Flight Data Overview:\n",
    "The flight-delays and cancellation data was collected and published by the U.S. Department of Transportation’s (DOT) Bureau of Transportation Statistics. This data records the flights operated by large air carriers and tracks the on-time performance of domestic flights. This data summarises various flight information such as the number of on-time, delayed, cancelled, and diverted flights published in DOT's monthly in 2015."
   ]
  },
  {
   "cell_type": "code",
   "execution_count": 2,
   "metadata": {
    "pycharm": {
     "is_executing": true
    }
   },
   "outputs": [],
   "source": [
    "# import required libraries\n",
    "import pandas as pd\n",
    "\n",
    "from time import sleep\n",
    "from json import dumps\n",
    "from kafka import KafkaProducer\n",
    "import random\n",
    "import csv\n",
    "from datetime import timezone\n",
    "import datetime"
   ]
  },
  {
   "cell_type": "code",
   "execution_count": 3,
   "metadata": {
    "pycharm": {
     "is_executing": false
    }
   },
   "outputs": [],
   "source": [
    "import yfinance as yf\n",
    "from pandas_datareader import data as pdr\n",
    "from datetime import datetime\n",
    "yf.pdr_override()"
   ]
  },
  {
   "cell_type": "code",
   "execution_count": null,
   "metadata": {},
   "outputs": [],
   "source": []
  },
  {
   "cell_type": "code",
   "execution_count": 8,
   "metadata": {},
   "outputs": [],
   "source": [
    "stock = 'AMAT'\n",
    "def GetHistoricalData(numberOfMonths = 2):\n",
    "    print(numberOfMonths)\n",
    "    end = datetime.now()\n",
    "    start = datetime(end.year, end.month - numberOfMonths, end.day , end.hour, end.minute,end.second)\n",
    "    print(start,end)\n",
    "    df_Historical = yf.download(stock, start, end)\n",
    "    df_Historical = df_Historical.reset_index()\n",
    "    df_Historical['Label'] = stock\n",
    "    df_Historical['Date'] = pd.to_datetime(df_Historical['Date'])\n",
    "    return(df_Historical)"
   ]
  },
  {
   "cell_type": "code",
   "execution_count": 9,
   "metadata": {},
   "outputs": [
    {
     "name": "stdout",
     "output_type": "stream",
     "text": [
      "2\n",
      "2023-02-13 11:26:50 2023-04-13 11:26:50.121364\n",
      "[*********************100%***********************]  1 of 1 completed\n"
     ]
    }
   ],
   "source": [
    "df_Historical = GetHistoricalData()\n"
   ]
  },
  {
   "cell_type": "code",
   "execution_count": 10,
   "metadata": {},
   "outputs": [
    {
     "data": {
      "text/html": [
       "<div>\n",
       "<style scoped>\n",
       "    .dataframe tbody tr th:only-of-type {\n",
       "        vertical-align: middle;\n",
       "    }\n",
       "\n",
       "    .dataframe tbody tr th {\n",
       "        vertical-align: top;\n",
       "    }\n",
       "\n",
       "    .dataframe thead th {\n",
       "        text-align: right;\n",
       "    }\n",
       "</style>\n",
       "<table border=\"1\" class=\"dataframe\">\n",
       "  <thead>\n",
       "    <tr style=\"text-align: right;\">\n",
       "      <th></th>\n",
       "      <th>Date</th>\n",
       "      <th>Open</th>\n",
       "      <th>High</th>\n",
       "      <th>Low</th>\n",
       "      <th>Close</th>\n",
       "      <th>Adj Close</th>\n",
       "      <th>Volume</th>\n",
       "      <th>Label</th>\n",
       "    </tr>\n",
       "  </thead>\n",
       "  <tbody>\n",
       "    <tr>\n",
       "      <th>0</th>\n",
       "      <td>2023-02-13</td>\n",
       "      <td>115.169998</td>\n",
       "      <td>116.720001</td>\n",
       "      <td>114.550003</td>\n",
       "      <td>116.529999</td>\n",
       "      <td>116.257736</td>\n",
       "      <td>4198200</td>\n",
       "      <td>AMAT</td>\n",
       "    </tr>\n",
       "    <tr>\n",
       "      <th>1</th>\n",
       "      <td>2023-02-14</td>\n",
       "      <td>114.870003</td>\n",
       "      <td>119.010002</td>\n",
       "      <td>113.849998</td>\n",
       "      <td>118.440002</td>\n",
       "      <td>118.163277</td>\n",
       "      <td>4870700</td>\n",
       "      <td>AMAT</td>\n",
       "    </tr>\n",
       "    <tr>\n",
       "      <th>2</th>\n",
       "      <td>2023-02-15</td>\n",
       "      <td>117.000000</td>\n",
       "      <td>119.580002</td>\n",
       "      <td>115.989998</td>\n",
       "      <td>119.459999</td>\n",
       "      <td>119.180885</td>\n",
       "      <td>4980000</td>\n",
       "      <td>AMAT</td>\n",
       "    </tr>\n",
       "    <tr>\n",
       "      <th>3</th>\n",
       "      <td>2023-02-16</td>\n",
       "      <td>116.879997</td>\n",
       "      <td>118.080002</td>\n",
       "      <td>115.139999</td>\n",
       "      <td>115.389999</td>\n",
       "      <td>115.120399</td>\n",
       "      <td>9117600</td>\n",
       "      <td>AMAT</td>\n",
       "    </tr>\n",
       "    <tr>\n",
       "      <th>4</th>\n",
       "      <td>2023-02-17</td>\n",
       "      <td>116.779999</td>\n",
       "      <td>117.400002</td>\n",
       "      <td>113.379997</td>\n",
       "      <td>115.440002</td>\n",
       "      <td>115.170280</td>\n",
       "      <td>9287100</td>\n",
       "      <td>AMAT</td>\n",
       "    </tr>\n",
       "  </tbody>\n",
       "</table>\n",
       "</div>"
      ],
      "text/plain": [
       "        Date        Open        High         Low       Close   Adj Close  \\\n",
       "0 2023-02-13  115.169998  116.720001  114.550003  116.529999  116.257736   \n",
       "1 2023-02-14  114.870003  119.010002  113.849998  118.440002  118.163277   \n",
       "2 2023-02-15  117.000000  119.580002  115.989998  119.459999  119.180885   \n",
       "3 2023-02-16  116.879997  118.080002  115.139999  115.389999  115.120399   \n",
       "4 2023-02-17  116.779999  117.400002  113.379997  115.440002  115.170280   \n",
       "\n",
       "    Volume Label  \n",
       "0  4198200  AMAT  \n",
       "1  4870700  AMAT  \n",
       "2  4980000  AMAT  \n",
       "3  9117600  AMAT  \n",
       "4  9287100  AMAT  "
      ]
     },
     "execution_count": 10,
     "metadata": {},
     "output_type": "execute_result"
    }
   ],
   "source": [
    "df_Historical.head()"
   ]
  },
  {
   "cell_type": "code",
   "execution_count": 11,
   "metadata": {},
   "outputs": [
    {
     "data": {
      "text/html": [
       "<div>\n",
       "<style scoped>\n",
       "    .dataframe tbody tr th:only-of-type {\n",
       "        vertical-align: middle;\n",
       "    }\n",
       "\n",
       "    .dataframe tbody tr th {\n",
       "        vertical-align: top;\n",
       "    }\n",
       "\n",
       "    .dataframe thead th {\n",
       "        text-align: right;\n",
       "    }\n",
       "</style>\n",
       "<table border=\"1\" class=\"dataframe\">\n",
       "  <thead>\n",
       "    <tr style=\"text-align: right;\">\n",
       "      <th></th>\n",
       "      <th>Date</th>\n",
       "      <th>Open</th>\n",
       "      <th>High</th>\n",
       "      <th>Low</th>\n",
       "      <th>Close</th>\n",
       "      <th>Adj Close</th>\n",
       "      <th>Volume</th>\n",
       "      <th>Label</th>\n",
       "    </tr>\n",
       "  </thead>\n",
       "  <tbody>\n",
       "    <tr>\n",
       "      <th>36</th>\n",
       "      <td>2023-04-05</td>\n",
       "      <td>119.589996</td>\n",
       "      <td>119.690002</td>\n",
       "      <td>115.650002</td>\n",
       "      <td>117.320000</td>\n",
       "      <td>117.320000</td>\n",
       "      <td>6691700</td>\n",
       "      <td>AMAT</td>\n",
       "    </tr>\n",
       "    <tr>\n",
       "      <th>37</th>\n",
       "      <td>2023-04-06</td>\n",
       "      <td>114.180000</td>\n",
       "      <td>115.290001</td>\n",
       "      <td>111.870003</td>\n",
       "      <td>114.449997</td>\n",
       "      <td>114.449997</td>\n",
       "      <td>6275000</td>\n",
       "      <td>AMAT</td>\n",
       "    </tr>\n",
       "    <tr>\n",
       "      <th>38</th>\n",
       "      <td>2023-04-10</td>\n",
       "      <td>112.470001</td>\n",
       "      <td>116.709999</td>\n",
       "      <td>112.449997</td>\n",
       "      <td>116.500000</td>\n",
       "      <td>116.500000</td>\n",
       "      <td>4096500</td>\n",
       "      <td>AMAT</td>\n",
       "    </tr>\n",
       "    <tr>\n",
       "      <th>39</th>\n",
       "      <td>2023-04-11</td>\n",
       "      <td>117.330002</td>\n",
       "      <td>117.830002</td>\n",
       "      <td>116.080002</td>\n",
       "      <td>116.379997</td>\n",
       "      <td>116.379997</td>\n",
       "      <td>3373000</td>\n",
       "      <td>AMAT</td>\n",
       "    </tr>\n",
       "    <tr>\n",
       "      <th>40</th>\n",
       "      <td>2023-04-12</td>\n",
       "      <td>117.730003</td>\n",
       "      <td>117.800003</td>\n",
       "      <td>112.870003</td>\n",
       "      <td>113.160004</td>\n",
       "      <td>113.160004</td>\n",
       "      <td>5837200</td>\n",
       "      <td>AMAT</td>\n",
       "    </tr>\n",
       "  </tbody>\n",
       "</table>\n",
       "</div>"
      ],
      "text/plain": [
       "         Date        Open        High         Low       Close   Adj Close  \\\n",
       "36 2023-04-05  119.589996  119.690002  115.650002  117.320000  117.320000   \n",
       "37 2023-04-06  114.180000  115.290001  111.870003  114.449997  114.449997   \n",
       "38 2023-04-10  112.470001  116.709999  112.449997  116.500000  116.500000   \n",
       "39 2023-04-11  117.330002  117.830002  116.080002  116.379997  116.379997   \n",
       "40 2023-04-12  117.730003  117.800003  112.870003  113.160004  113.160004   \n",
       "\n",
       "     Volume Label  \n",
       "36  6691700  AMAT  \n",
       "37  6275000  AMAT  \n",
       "38  4096500  AMAT  \n",
       "39  3373000  AMAT  \n",
       "40  5837200  AMAT  "
      ]
     },
     "execution_count": 11,
     "metadata": {},
     "output_type": "execute_result"
    }
   ],
   "source": [
    "df_Historical.tail()"
   ]
  },
  {
   "cell_type": "code",
   "execution_count": 12,
   "metadata": {},
   "outputs": [],
   "source": [
    "def GetLiveData():\n",
    "    ticker = yf.Ticker(stock).info\n",
    "    market_price = ticker['regularMarketPrice']\n",
    "    market_open = ticker['regularMarketOpen']\n",
    "    market_High = ticker['regularMarketDayHigh']\n",
    "    market_Low = ticker['regularMarketDayLow']\n",
    "    market_volume = ticker['regularMarketVolume']\n",
    "    market_symbol = ticker['symbol']\n",
    "    #print('Ticker: AMAT')\n",
    "    #print('Market Price:', market_price)\n",
    "    #print('Previous Close Price:', previous_close_price)\n",
    "    df_live = {'Date':datetime.now(),'Open': market_open , 'High':market_High,'Low':market_Low,'Close':market_price,'Adj Close':market_price,'Volume':market_volume,'Label':market_symbol}\n",
    "    return(df_live)"
   ]
  },
  {
   "cell_type": "code",
   "execution_count": 13,
   "metadata": {},
   "outputs": [],
   "source": [
    "df_live = GetLiveData()"
   ]
  },
  {
   "cell_type": "code",
   "execution_count": 14,
   "metadata": {},
   "outputs": [
    {
     "name": "stderr",
     "output_type": "stream",
     "text": [
      "C:\\Users\\safar\\AppData\\Local\\Temp\\ipykernel_27940\\2787631416.py:1: FutureWarning: The frame.append method is deprecated and will be removed from pandas in a future version. Use pandas.concat instead.\n",
      "  df_all = df_Historical.append(df_live, ignore_index = True)\n"
     ]
    }
   ],
   "source": [
    "df_all = df_Historical.append(df_live, ignore_index = True)\n"
   ]
  },
  {
   "cell_type": "code",
   "execution_count": 15,
   "metadata": {},
   "outputs": [
    {
     "data": {
      "text/html": [
       "<div>\n",
       "<style scoped>\n",
       "    .dataframe tbody tr th:only-of-type {\n",
       "        vertical-align: middle;\n",
       "    }\n",
       "\n",
       "    .dataframe tbody tr th {\n",
       "        vertical-align: top;\n",
       "    }\n",
       "\n",
       "    .dataframe thead th {\n",
       "        text-align: right;\n",
       "    }\n",
       "</style>\n",
       "<table border=\"1\" class=\"dataframe\">\n",
       "  <thead>\n",
       "    <tr style=\"text-align: right;\">\n",
       "      <th></th>\n",
       "      <th>Date</th>\n",
       "      <th>Open</th>\n",
       "      <th>High</th>\n",
       "      <th>Low</th>\n",
       "      <th>Close</th>\n",
       "      <th>Adj Close</th>\n",
       "      <th>Volume</th>\n",
       "      <th>Label</th>\n",
       "    </tr>\n",
       "  </thead>\n",
       "  <tbody>\n",
       "    <tr>\n",
       "      <th>0</th>\n",
       "      <td>2023-02-13</td>\n",
       "      <td>115.169998</td>\n",
       "      <td>116.720001</td>\n",
       "      <td>114.550003</td>\n",
       "      <td>116.529999</td>\n",
       "      <td>116.257736</td>\n",
       "      <td>4198200</td>\n",
       "      <td>AMAT</td>\n",
       "    </tr>\n",
       "    <tr>\n",
       "      <th>1</th>\n",
       "      <td>2023-02-14</td>\n",
       "      <td>114.870003</td>\n",
       "      <td>119.010002</td>\n",
       "      <td>113.849998</td>\n",
       "      <td>118.440002</td>\n",
       "      <td>118.163277</td>\n",
       "      <td>4870700</td>\n",
       "      <td>AMAT</td>\n",
       "    </tr>\n",
       "    <tr>\n",
       "      <th>2</th>\n",
       "      <td>2023-02-15</td>\n",
       "      <td>117.000000</td>\n",
       "      <td>119.580002</td>\n",
       "      <td>115.989998</td>\n",
       "      <td>119.459999</td>\n",
       "      <td>119.180885</td>\n",
       "      <td>4980000</td>\n",
       "      <td>AMAT</td>\n",
       "    </tr>\n",
       "    <tr>\n",
       "      <th>3</th>\n",
       "      <td>2023-02-16</td>\n",
       "      <td>116.879997</td>\n",
       "      <td>118.080002</td>\n",
       "      <td>115.139999</td>\n",
       "      <td>115.389999</td>\n",
       "      <td>115.120399</td>\n",
       "      <td>9117600</td>\n",
       "      <td>AMAT</td>\n",
       "    </tr>\n",
       "    <tr>\n",
       "      <th>4</th>\n",
       "      <td>2023-02-17</td>\n",
       "      <td>116.779999</td>\n",
       "      <td>117.400002</td>\n",
       "      <td>113.379997</td>\n",
       "      <td>115.440002</td>\n",
       "      <td>115.170280</td>\n",
       "      <td>9287100</td>\n",
       "      <td>AMAT</td>\n",
       "    </tr>\n",
       "  </tbody>\n",
       "</table>\n",
       "</div>"
      ],
      "text/plain": [
       "        Date        Open        High         Low       Close   Adj Close  \\\n",
       "0 2023-02-13  115.169998  116.720001  114.550003  116.529999  116.257736   \n",
       "1 2023-02-14  114.870003  119.010002  113.849998  118.440002  118.163277   \n",
       "2 2023-02-15  117.000000  119.580002  115.989998  119.459999  119.180885   \n",
       "3 2023-02-16  116.879997  118.080002  115.139999  115.389999  115.120399   \n",
       "4 2023-02-17  116.779999  117.400002  113.379997  115.440002  115.170280   \n",
       "\n",
       "    Volume Label  \n",
       "0  4198200  AMAT  \n",
       "1  4870700  AMAT  \n",
       "2  4980000  AMAT  \n",
       "3  9117600  AMAT  \n",
       "4  9287100  AMAT  "
      ]
     },
     "execution_count": 15,
     "metadata": {},
     "output_type": "execute_result"
    }
   ],
   "source": [
    "df_all.head()"
   ]
  },
  {
   "cell_type": "code",
   "execution_count": 16,
   "metadata": {},
   "outputs": [
    {
     "data": {
      "text/html": [
       "<div>\n",
       "<style scoped>\n",
       "    .dataframe tbody tr th:only-of-type {\n",
       "        vertical-align: middle;\n",
       "    }\n",
       "\n",
       "    .dataframe tbody tr th {\n",
       "        vertical-align: top;\n",
       "    }\n",
       "\n",
       "    .dataframe thead th {\n",
       "        text-align: right;\n",
       "    }\n",
       "</style>\n",
       "<table border=\"1\" class=\"dataframe\">\n",
       "  <thead>\n",
       "    <tr style=\"text-align: right;\">\n",
       "      <th></th>\n",
       "      <th>Date</th>\n",
       "      <th>Open</th>\n",
       "      <th>High</th>\n",
       "      <th>Low</th>\n",
       "      <th>Close</th>\n",
       "      <th>Adj Close</th>\n",
       "      <th>Volume</th>\n",
       "      <th>Label</th>\n",
       "    </tr>\n",
       "  </thead>\n",
       "  <tbody>\n",
       "    <tr>\n",
       "      <th>37</th>\n",
       "      <td>2023-04-06 00:00:00.000000</td>\n",
       "      <td>114.180000</td>\n",
       "      <td>115.290001</td>\n",
       "      <td>111.870003</td>\n",
       "      <td>114.449997</td>\n",
       "      <td>114.449997</td>\n",
       "      <td>6275000</td>\n",
       "      <td>AMAT</td>\n",
       "    </tr>\n",
       "    <tr>\n",
       "      <th>38</th>\n",
       "      <td>2023-04-10 00:00:00.000000</td>\n",
       "      <td>112.470001</td>\n",
       "      <td>116.709999</td>\n",
       "      <td>112.449997</td>\n",
       "      <td>116.500000</td>\n",
       "      <td>116.500000</td>\n",
       "      <td>4096500</td>\n",
       "      <td>AMAT</td>\n",
       "    </tr>\n",
       "    <tr>\n",
       "      <th>39</th>\n",
       "      <td>2023-04-11 00:00:00.000000</td>\n",
       "      <td>117.330002</td>\n",
       "      <td>117.830002</td>\n",
       "      <td>116.080002</td>\n",
       "      <td>116.379997</td>\n",
       "      <td>116.379997</td>\n",
       "      <td>3373000</td>\n",
       "      <td>AMAT</td>\n",
       "    </tr>\n",
       "    <tr>\n",
       "      <th>40</th>\n",
       "      <td>2023-04-12 00:00:00.000000</td>\n",
       "      <td>117.730003</td>\n",
       "      <td>117.800003</td>\n",
       "      <td>112.870003</td>\n",
       "      <td>113.160004</td>\n",
       "      <td>113.160004</td>\n",
       "      <td>5837200</td>\n",
       "      <td>AMAT</td>\n",
       "    </tr>\n",
       "    <tr>\n",
       "      <th>41</th>\n",
       "      <td>2023-04-13 11:27:06.787608</td>\n",
       "      <td>113.530000</td>\n",
       "      <td>113.880000</td>\n",
       "      <td>111.515000</td>\n",
       "      <td>113.240000</td>\n",
       "      <td>113.240000</td>\n",
       "      <td>2015788</td>\n",
       "      <td>AMAT</td>\n",
       "    </tr>\n",
       "  </tbody>\n",
       "</table>\n",
       "</div>"
      ],
      "text/plain": [
       "                         Date        Open        High         Low       Close  \\\n",
       "37 2023-04-06 00:00:00.000000  114.180000  115.290001  111.870003  114.449997   \n",
       "38 2023-04-10 00:00:00.000000  112.470001  116.709999  112.449997  116.500000   \n",
       "39 2023-04-11 00:00:00.000000  117.330002  117.830002  116.080002  116.379997   \n",
       "40 2023-04-12 00:00:00.000000  117.730003  117.800003  112.870003  113.160004   \n",
       "41 2023-04-13 11:27:06.787608  113.530000  113.880000  111.515000  113.240000   \n",
       "\n",
       "     Adj Close   Volume Label  \n",
       "37  114.449997  6275000  AMAT  \n",
       "38  116.500000  4096500  AMAT  \n",
       "39  116.379997  3373000  AMAT  \n",
       "40  113.160004  5837200  AMAT  \n",
       "41  113.240000  2015788  AMAT  "
      ]
     },
     "execution_count": 16,
     "metadata": {},
     "output_type": "execute_result"
    }
   ],
   "source": [
    "df_all.tail()"
   ]
  },
  {
   "cell_type": "code",
   "execution_count": 18,
   "metadata": {},
   "outputs": [],
   "source": [
    "df_all['Date'] =df_all['Date'].astype(str)"
   ]
  },
  {
   "cell_type": "code",
   "execution_count": 20,
   "metadata": {},
   "outputs": [
    {
     "name": "stdout",
     "output_type": "stream",
     "text": [
      "{'Date': '2023-02-13 00:00:00.000000', 'Open': 115.16999816894531, 'High': 116.72000122070312, 'Low': 114.55000305175781, 'Close': 116.52999877929688, 'Adj Close': 116.25773620605469, 'Volume': 4198200, 'Label': 'AMAT'}\n"
     ]
    }
   ],
   "source": [
    "all_data = df_all.to_dict(orient='records')\n",
    "print(all_data[0])"
   ]
  },
  {
   "cell_type": "code",
   "execution_count": 21,
   "metadata": {},
   "outputs": [
    {
     "data": {
      "text/plain": [
       "42"
      ]
     },
     "execution_count": 21,
     "metadata": {},
     "output_type": "execute_result"
    }
   ],
   "source": [
    "len(all_data)"
   ]
  },
  {
   "cell_type": "markdown",
   "metadata": {},
   "source": [
    "## Step 3\n",
    "\n",
    "#### Create publisher and producer function\n",
    "\n",
    "Functions are taken from the Week 9 Lab material provided."
   ]
  },
  {
   "cell_type": "code",
   "execution_count": 22,
   "metadata": {},
   "outputs": [],
   "source": [
    "# function that publishes the message \n",
    "def publish_message(producer_instance, topic_name, data):\n",
    "    print(data)\n",
    "    try:\n",
    "        producer_instance.send(topic_name, data)\n",
    "        \n",
    "    except Exception as ex:\n",
    "        print('Exception in publishing message.')\n",
    "        print(str(ex))\n",
    "\n",
    "        \n",
    "# function that connects the kafka producer        \n",
    "def connect_kafka_producer():\n",
    "    _producer = None\n",
    "    try:\n",
    "        _producer = KafkaProducer(bootstrap_servers=['192.168.86.48:9092'],\n",
    "                                  value_serializer=lambda x: dumps(x).encode('ascii'),\n",
    "                                  api_version=(0, 10))\n",
    "    except Exception as ex:\n",
    "        print('Exception while connecting Kafka.')\n",
    "        print(str(ex))\n",
    "    finally:\n",
    "        return _producer\n",
    " "
   ]
  },
  {
   "cell_type": "code",
   "execution_count": 23,
   "metadata": {},
   "outputs": [],
   "source": [
    "producer = connect_kafka_producer()"
   ]
  },
  {
   "cell_type": "markdown",
   "metadata": {},
   "source": [
    "## Step 4\n",
    "\n",
    "#### Send desired data batches \n",
    "\n",
    "Using the above created functions we create the desired flight data batches and send them so the consumers can receive the data."
   ]
  },
  {
   "cell_type": "code",
   "execution_count": 25,
   "metadata": {},
   "outputs": [
    {
     "name": "stdout",
     "output_type": "stream",
     "text": [
      "Publishing records..\n",
      "[{'Date': '2023-02-13 00:00:00.000000', 'Open': 115.16999816894531, 'High': 116.72000122070312, 'Low': 114.55000305175781, 'Close': 116.52999877929688, 'Adj Close': 116.25773620605469, 'Volume': 4198200, 'Label': 'AMAT'}, {'Date': '2023-02-14 00:00:00.000000', 'Open': 114.87000274658203, 'High': 119.01000213623047, 'Low': 113.8499984741211, 'Close': 118.44000244140625, 'Adj Close': 118.16327667236328, 'Volume': 4870700, 'Label': 'AMAT'}, {'Date': '2023-02-15 00:00:00.000000', 'Open': 117.0, 'High': 119.58000183105469, 'Low': 115.98999786376953, 'Close': 119.45999908447266, 'Adj Close': 119.1808853149414, 'Volume': 4980000, 'Label': 'AMAT'}, {'Date': '2023-02-16 00:00:00.000000', 'Open': 116.87999725341797, 'High': 118.08000183105469, 'Low': 115.13999938964844, 'Close': 115.38999938964844, 'Adj Close': 115.12039947509766, 'Volume': 9117600, 'Label': 'AMAT'}, {'Date': '2023-02-17 00:00:00.000000', 'Open': 116.77999877929688, 'High': 117.4000015258789, 'Low': 113.37999725341797, 'Close': 115.44000244140625, 'Adj Close': 115.17028045654297, 'Volume': 9287100, 'Label': 'AMAT'}, {'Date': '2023-02-21 00:00:00.000000', 'Open': 113.63999938964844, 'High': 114.83000183105469, 'Low': 110.93000030517578, 'Close': 111.27999877929688, 'Adj Close': 111.0199966430664, 'Volume': 7583900, 'Label': 'AMAT'}, {'Date': '2023-02-22 00:00:00.000000', 'Open': 111.12000274658203, 'High': 112.37999725341797, 'Low': 109.4800033569336, 'Close': 110.41000366210938, 'Adj Close': 110.41000366210938, 'Volume': 5089200, 'Label': 'AMAT'}, {'Date': '2023-02-23 00:00:00.000000', 'Open': 112.54000091552734, 'High': 113.95999908447266, 'Low': 109.91000366210938, 'Close': 112.91000366210938, 'Adj Close': 112.91000366210938, 'Volume': 7136100, 'Label': 'AMAT'}, {'Date': '2023-02-24 00:00:00.000000', 'Open': 111.01000213623047, 'High': 112.0999984741211, 'Low': 110.37999725341797, 'Close': 111.30999755859375, 'Adj Close': 111.30999755859375, 'Volume': 5808400, 'Label': 'AMAT'}, {'Date': '2023-02-27 00:00:00.000000', 'Open': 113.51000213623047, 'High': 113.88999938964844, 'Low': 111.48999786376953, 'Close': 112.06999969482422, 'Adj Close': 112.06999969482422, 'Volume': 5362700, 'Label': 'AMAT'}, {'Date': '2023-02-28 00:00:00.000000', 'Open': 116.13999938964844, 'High': 118.06999969482422, 'Low': 114.8499984741211, 'Close': 116.1500015258789, 'Adj Close': 116.1500015258789, 'Volume': 13010900, 'Label': 'AMAT'}, {'Date': '2023-03-01 00:00:00.000000', 'Open': 117.69999694824219, 'High': 119.31999969482422, 'Low': 116.94000244140625, 'Close': 117.26000213623047, 'Adj Close': 117.26000213623047, 'Volume': 6756800, 'Label': 'AMAT'}, {'Date': '2023-03-02 00:00:00.000000', 'Open': 115.44999694824219, 'High': 119.08999633789062, 'Low': 113.93000030517578, 'Close': 118.44999694824219, 'Adj Close': 118.44999694824219, 'Volume': 6502200, 'Label': 'AMAT'}, {'Date': '2023-03-03 00:00:00.000000', 'Open': 118.75, 'High': 119.13999938964844, 'Low': 116.94999694824219, 'Close': 118.95999908447266, 'Adj Close': 118.95999908447266, 'Volume': 7232400, 'Label': 'AMAT'}, {'Date': '2023-03-06 00:00:00.000000', 'Open': 119.8499984741211, 'High': 121.5, 'Low': 118.22000122070312, 'Close': 118.54000091552734, 'Adj Close': 118.54000091552734, 'Volume': 5775700, 'Label': 'AMAT'}, {'Date': '2023-03-07 00:00:00.000000', 'Open': 118.33000183105469, 'High': 118.72000122070312, 'Low': 115.66000366210938, 'Close': 116.37000274658203, 'Adj Close': 116.37000274658203, 'Volume': 5225900, 'Label': 'AMAT'}, {'Date': '2023-03-08 00:00:00.000000', 'Open': 116.62000274658203, 'High': 119.0999984741211, 'Low': 116.62000274658203, 'Close': 118.6500015258789, 'Adj Close': 118.6500015258789, 'Volume': 4474900, 'Label': 'AMAT'}, {'Date': '2023-03-09 00:00:00.000000', 'Open': 118.69000244140625, 'High': 120.95999908447266, 'Low': 116.8499984741211, 'Close': 117.04000091552734, 'Adj Close': 117.04000091552734, 'Volume': 5701400, 'Label': 'AMAT'}, {'Date': '2023-03-10 00:00:00.000000', 'Open': 118.33999633789062, 'High': 118.62000274658203, 'Low': 113.91999816894531, 'Close': 114.38999938964844, 'Adj Close': 114.38999938964844, 'Volume': 7009600, 'Label': 'AMAT'}, {'Date': '2023-03-13 00:00:00.000000', 'Open': 113.79000091552734, 'High': 117.31999969482422, 'Low': 111.91999816894531, 'Close': 115.83999633789062, 'Adj Close': 115.83999633789062, 'Volume': 8221300, 'Label': 'AMAT'}, {'Date': '2023-03-14 00:00:00.000000', 'Open': 118.77999877929688, 'High': 121.23999786376953, 'Low': 117.87999725341797, 'Close': 120.33999633789062, 'Adj Close': 120.33999633789062, 'Volume': 8322400, 'Label': 'AMAT'}, {'Date': '2023-03-15 00:00:00.000000', 'Open': 118.5199966430664, 'High': 118.83000183105469, 'Low': 115.69999694824219, 'Close': 118.4800033569336, 'Adj Close': 118.4800033569336, 'Volume': 9517700, 'Label': 'AMAT'}, {'Date': '2023-03-16 00:00:00.000000', 'Open': 118.20999908447266, 'High': 123.43000030517578, 'Low': 116.9000015258789, 'Close': 122.83000183105469, 'Adj Close': 122.83000183105469, 'Volume': 6787700, 'Label': 'AMAT'}, {'Date': '2023-03-17 00:00:00.000000', 'Open': 123.6500015258789, 'High': 124.38999938964844, 'Low': 121.62000274658203, 'Close': 122.5999984741211, 'Adj Close': 122.5999984741211, 'Volume': 13761500, 'Label': 'AMAT'}, {'Date': '2023-03-20 00:00:00.000000', 'Open': 123.0, 'High': 124.76000213623047, 'Low': 122.43000030517578, 'Close': 124.04000091552734, 'Adj Close': 124.04000091552734, 'Volume': 4974700, 'Label': 'AMAT'}, {'Date': '2023-03-21 00:00:00.000000', 'Open': 123.87999725341797, 'High': 125.62000274658203, 'Low': 118.41000366210938, 'Close': 120.4000015258789, 'Adj Close': 120.4000015258789, 'Volume': 10090100, 'Label': 'AMAT'}, {'Date': '2023-03-22 00:00:00.000000', 'Open': 120.2699966430664, 'High': 123.73999786376953, 'Low': 118.69000244140625, 'Close': 118.86000061035156, 'Adj Close': 118.86000061035156, 'Volume': 8342500, 'Label': 'AMAT'}, {'Date': '2023-03-23 00:00:00.000000', 'Open': 121.2699966430664, 'High': 124.98999786376953, 'Low': 120.16999816894531, 'Close': 122.77999877929688, 'Adj Close': 122.77999877929688, 'Volume': 6182200, 'Label': 'AMAT'}, {'Date': '2023-03-24 00:00:00.000000', 'Open': 121.63999938964844, 'High': 122.12000274658203, 'Low': 118.05000305175781, 'Close': 119.52999877929688, 'Adj Close': 119.52999877929688, 'Volume': 6354500, 'Label': 'AMAT'}, {'Date': '2023-03-27 00:00:00.000000', 'Open': 120.75, 'High': 120.9800033569336, 'Low': 118.31999969482422, 'Close': 118.87000274658203, 'Adj Close': 118.87000274658203, 'Volume': 4628200, 'Label': 'AMAT'}, {'Date': '2023-03-28 00:00:00.000000', 'Open': 118.88999938964844, 'High': 119.05999755859375, 'Low': 115.58000183105469, 'Close': 116.4000015258789, 'Adj Close': 116.4000015258789, 'Volume': 5523800, 'Label': 'AMAT'}, {'Date': '2023-03-29 00:00:00.000000', 'Open': 118.72000122070312, 'High': 121.01000213623047, 'Low': 117.36000061035156, 'Close': 119.8499984741211, 'Adj Close': 119.8499984741211, 'Volume': 7865300, 'Label': 'AMAT'}, {'Date': '2023-03-30 00:00:00.000000', 'Open': 122.0, 'High': 123.37999725341797, 'Low': 121.33999633789062, 'Close': 122.11000061035156, 'Adj Close': 122.11000061035156, 'Volume': 6213800, 'Label': 'AMAT'}, {'Date': '2023-03-31 00:00:00.000000', 'Open': 121.5199966430664, 'High': 123.5199966430664, 'Low': 121.0, 'Close': 122.83000183105469, 'Adj Close': 122.83000183105469, 'Volume': 5014600, 'Label': 'AMAT'}, {'Date': '2023-04-03 00:00:00.000000', 'Open': 121.62999725341797, 'High': 122.44000244140625, 'Low': 120.5999984741211, 'Close': 122.31999969482422, 'Adj Close': 122.31999969482422, 'Volume': 5146800, 'Label': 'AMAT'}, {'Date': '2023-04-04 00:00:00.000000', 'Open': 122.94000244140625, 'High': 122.97000122070312, 'Low': 119.38999938964844, 'Close': 120.12000274658203, 'Adj Close': 120.12000274658203, 'Volume': 4772200, 'Label': 'AMAT'}, {'Date': '2023-04-05 00:00:00.000000', 'Open': 119.58999633789062, 'High': 119.69000244140625, 'Low': 115.6500015258789, 'Close': 117.31999969482422, 'Adj Close': 117.31999969482422, 'Volume': 6691700, 'Label': 'AMAT'}, {'Date': '2023-04-06 00:00:00.000000', 'Open': 114.18000030517578, 'High': 115.29000091552734, 'Low': 111.87000274658203, 'Close': 114.44999694824219, 'Adj Close': 114.44999694824219, 'Volume': 6275000, 'Label': 'AMAT'}, {'Date': '2023-04-10 00:00:00.000000', 'Open': 112.47000122070312, 'High': 116.70999908447266, 'Low': 112.44999694824219, 'Close': 116.5, 'Adj Close': 116.5, 'Volume': 4096500, 'Label': 'AMAT'}, {'Date': '2023-04-11 00:00:00.000000', 'Open': 117.33000183105469, 'High': 117.83000183105469, 'Low': 116.08000183105469, 'Close': 116.37999725341797, 'Adj Close': 116.37999725341797, 'Volume': 3373000, 'Label': 'AMAT'}, {'Date': '2023-04-12 00:00:00.000000', 'Open': 117.7300033569336, 'High': 117.80000305175781, 'Low': 112.87000274658203, 'Close': 113.16000366210938, 'Adj Close': 113.16000366210938, 'Volume': 5837200, 'Label': 'AMAT'}, {'Date': '2023-04-13 11:27:06.787608', 'Open': 113.53, 'High': 113.88, 'Low': 111.515, 'Close': 113.24, 'Adj Close': 113.24, 'Volume': 2015788, 'Label': 'AMAT'}]\n"
     ]
    },
    {
     "name": "stdout",
     "output_type": "stream",
     "text": [
      "[{'Date': '2023-02-13 00:00:00.000000', 'Open': 115.16999816894531, 'High': 116.72000122070312, 'Low': 114.55000305175781, 'Close': 116.52999877929688, 'Adj Close': 116.25773620605469, 'Volume': 4198200, 'Label': 'AMAT'}, {'Date': '2023-02-14 00:00:00.000000', 'Open': 114.87000274658203, 'High': 119.01000213623047, 'Low': 113.8499984741211, 'Close': 118.44000244140625, 'Adj Close': 118.16327667236328, 'Volume': 4870700, 'Label': 'AMAT'}, {'Date': '2023-02-15 00:00:00.000000', 'Open': 117.0, 'High': 119.58000183105469, 'Low': 115.98999786376953, 'Close': 119.45999908447266, 'Adj Close': 119.1808853149414, 'Volume': 4980000, 'Label': 'AMAT'}, {'Date': '2023-02-16 00:00:00.000000', 'Open': 116.87999725341797, 'High': 118.08000183105469, 'Low': 115.13999938964844, 'Close': 115.38999938964844, 'Adj Close': 115.12039947509766, 'Volume': 9117600, 'Label': 'AMAT'}, {'Date': '2023-02-17 00:00:00.000000', 'Open': 116.77999877929688, 'High': 117.4000015258789, 'Low': 113.37999725341797, 'Close': 115.44000244140625, 'Adj Close': 115.17028045654297, 'Volume': 9287100, 'Label': 'AMAT'}, {'Date': '2023-02-21 00:00:00.000000', 'Open': 113.63999938964844, 'High': 114.83000183105469, 'Low': 110.93000030517578, 'Close': 111.27999877929688, 'Adj Close': 111.0199966430664, 'Volume': 7583900, 'Label': 'AMAT'}, {'Date': '2023-02-22 00:00:00.000000', 'Open': 111.12000274658203, 'High': 112.37999725341797, 'Low': 109.4800033569336, 'Close': 110.41000366210938, 'Adj Close': 110.41000366210938, 'Volume': 5089200, 'Label': 'AMAT'}, {'Date': '2023-02-23 00:00:00.000000', 'Open': 112.54000091552734, 'High': 113.95999908447266, 'Low': 109.91000366210938, 'Close': 112.91000366210938, 'Adj Close': 112.91000366210938, 'Volume': 7136100, 'Label': 'AMAT'}, {'Date': '2023-02-24 00:00:00.000000', 'Open': 111.01000213623047, 'High': 112.0999984741211, 'Low': 110.37999725341797, 'Close': 111.30999755859375, 'Adj Close': 111.30999755859375, 'Volume': 5808400, 'Label': 'AMAT'}, {'Date': '2023-02-27 00:00:00.000000', 'Open': 113.51000213623047, 'High': 113.88999938964844, 'Low': 111.48999786376953, 'Close': 112.06999969482422, 'Adj Close': 112.06999969482422, 'Volume': 5362700, 'Label': 'AMAT'}, {'Date': '2023-02-28 00:00:00.000000', 'Open': 116.13999938964844, 'High': 118.06999969482422, 'Low': 114.8499984741211, 'Close': 116.1500015258789, 'Adj Close': 116.1500015258789, 'Volume': 13010900, 'Label': 'AMAT'}, {'Date': '2023-03-01 00:00:00.000000', 'Open': 117.69999694824219, 'High': 119.31999969482422, 'Low': 116.94000244140625, 'Close': 117.26000213623047, 'Adj Close': 117.26000213623047, 'Volume': 6756800, 'Label': 'AMAT'}, {'Date': '2023-03-02 00:00:00.000000', 'Open': 115.44999694824219, 'High': 119.08999633789062, 'Low': 113.93000030517578, 'Close': 118.44999694824219, 'Adj Close': 118.44999694824219, 'Volume': 6502200, 'Label': 'AMAT'}, {'Date': '2023-03-03 00:00:00.000000', 'Open': 118.75, 'High': 119.13999938964844, 'Low': 116.94999694824219, 'Close': 118.95999908447266, 'Adj Close': 118.95999908447266, 'Volume': 7232400, 'Label': 'AMAT'}, {'Date': '2023-03-06 00:00:00.000000', 'Open': 119.8499984741211, 'High': 121.5, 'Low': 118.22000122070312, 'Close': 118.54000091552734, 'Adj Close': 118.54000091552734, 'Volume': 5775700, 'Label': 'AMAT'}, {'Date': '2023-03-07 00:00:00.000000', 'Open': 118.33000183105469, 'High': 118.72000122070312, 'Low': 115.66000366210938, 'Close': 116.37000274658203, 'Adj Close': 116.37000274658203, 'Volume': 5225900, 'Label': 'AMAT'}, {'Date': '2023-03-08 00:00:00.000000', 'Open': 116.62000274658203, 'High': 119.0999984741211, 'Low': 116.62000274658203, 'Close': 118.6500015258789, 'Adj Close': 118.6500015258789, 'Volume': 4474900, 'Label': 'AMAT'}, {'Date': '2023-03-09 00:00:00.000000', 'Open': 118.69000244140625, 'High': 120.95999908447266, 'Low': 116.8499984741211, 'Close': 117.04000091552734, 'Adj Close': 117.04000091552734, 'Volume': 5701400, 'Label': 'AMAT'}, {'Date': '2023-03-10 00:00:00.000000', 'Open': 118.33999633789062, 'High': 118.62000274658203, 'Low': 113.91999816894531, 'Close': 114.38999938964844, 'Adj Close': 114.38999938964844, 'Volume': 7009600, 'Label': 'AMAT'}, {'Date': '2023-03-13 00:00:00.000000', 'Open': 113.79000091552734, 'High': 117.31999969482422, 'Low': 111.91999816894531, 'Close': 115.83999633789062, 'Adj Close': 115.83999633789062, 'Volume': 8221300, 'Label': 'AMAT'}, {'Date': '2023-03-14 00:00:00.000000', 'Open': 118.77999877929688, 'High': 121.23999786376953, 'Low': 117.87999725341797, 'Close': 120.33999633789062, 'Adj Close': 120.33999633789062, 'Volume': 8322400, 'Label': 'AMAT'}, {'Date': '2023-03-15 00:00:00.000000', 'Open': 118.5199966430664, 'High': 118.83000183105469, 'Low': 115.69999694824219, 'Close': 118.4800033569336, 'Adj Close': 118.4800033569336, 'Volume': 9517700, 'Label': 'AMAT'}, {'Date': '2023-03-16 00:00:00.000000', 'Open': 118.20999908447266, 'High': 123.43000030517578, 'Low': 116.9000015258789, 'Close': 122.83000183105469, 'Adj Close': 122.83000183105469, 'Volume': 6787700, 'Label': 'AMAT'}, {'Date': '2023-03-17 00:00:00.000000', 'Open': 123.6500015258789, 'High': 124.38999938964844, 'Low': 121.62000274658203, 'Close': 122.5999984741211, 'Adj Close': 122.5999984741211, 'Volume': 13761500, 'Label': 'AMAT'}, {'Date': '2023-03-20 00:00:00.000000', 'Open': 123.0, 'High': 124.76000213623047, 'Low': 122.43000030517578, 'Close': 124.04000091552734, 'Adj Close': 124.04000091552734, 'Volume': 4974700, 'Label': 'AMAT'}, {'Date': '2023-03-21 00:00:00.000000', 'Open': 123.87999725341797, 'High': 125.62000274658203, 'Low': 118.41000366210938, 'Close': 120.4000015258789, 'Adj Close': 120.4000015258789, 'Volume': 10090100, 'Label': 'AMAT'}, {'Date': '2023-03-22 00:00:00.000000', 'Open': 120.2699966430664, 'High': 123.73999786376953, 'Low': 118.69000244140625, 'Close': 118.86000061035156, 'Adj Close': 118.86000061035156, 'Volume': 8342500, 'Label': 'AMAT'}, {'Date': '2023-03-23 00:00:00.000000', 'Open': 121.2699966430664, 'High': 124.98999786376953, 'Low': 120.16999816894531, 'Close': 122.77999877929688, 'Adj Close': 122.77999877929688, 'Volume': 6182200, 'Label': 'AMAT'}, {'Date': '2023-03-24 00:00:00.000000', 'Open': 121.63999938964844, 'High': 122.12000274658203, 'Low': 118.05000305175781, 'Close': 119.52999877929688, 'Adj Close': 119.52999877929688, 'Volume': 6354500, 'Label': 'AMAT'}, {'Date': '2023-03-27 00:00:00.000000', 'Open': 120.75, 'High': 120.9800033569336, 'Low': 118.31999969482422, 'Close': 118.87000274658203, 'Adj Close': 118.87000274658203, 'Volume': 4628200, 'Label': 'AMAT'}, {'Date': '2023-03-28 00:00:00.000000', 'Open': 118.88999938964844, 'High': 119.05999755859375, 'Low': 115.58000183105469, 'Close': 116.4000015258789, 'Adj Close': 116.4000015258789, 'Volume': 5523800, 'Label': 'AMAT'}, {'Date': '2023-03-29 00:00:00.000000', 'Open': 118.72000122070312, 'High': 121.01000213623047, 'Low': 117.36000061035156, 'Close': 119.8499984741211, 'Adj Close': 119.8499984741211, 'Volume': 7865300, 'Label': 'AMAT'}, {'Date': '2023-03-30 00:00:00.000000', 'Open': 122.0, 'High': 123.37999725341797, 'Low': 121.33999633789062, 'Close': 122.11000061035156, 'Adj Close': 122.11000061035156, 'Volume': 6213800, 'Label': 'AMAT'}, {'Date': '2023-03-31 00:00:00.000000', 'Open': 121.5199966430664, 'High': 123.5199966430664, 'Low': 121.0, 'Close': 122.83000183105469, 'Adj Close': 122.83000183105469, 'Volume': 5014600, 'Label': 'AMAT'}, {'Date': '2023-04-03 00:00:00.000000', 'Open': 121.62999725341797, 'High': 122.44000244140625, 'Low': 120.5999984741211, 'Close': 122.31999969482422, 'Adj Close': 122.31999969482422, 'Volume': 5146800, 'Label': 'AMAT'}, {'Date': '2023-04-04 00:00:00.000000', 'Open': 122.94000244140625, 'High': 122.97000122070312, 'Low': 119.38999938964844, 'Close': 120.12000274658203, 'Adj Close': 120.12000274658203, 'Volume': 4772200, 'Label': 'AMAT'}, {'Date': '2023-04-05 00:00:00.000000', 'Open': 119.58999633789062, 'High': 119.69000244140625, 'Low': 115.6500015258789, 'Close': 117.31999969482422, 'Adj Close': 117.31999969482422, 'Volume': 6691700, 'Label': 'AMAT'}, {'Date': '2023-04-06 00:00:00.000000', 'Open': 114.18000030517578, 'High': 115.29000091552734, 'Low': 111.87000274658203, 'Close': 114.44999694824219, 'Adj Close': 114.44999694824219, 'Volume': 6275000, 'Label': 'AMAT'}, {'Date': '2023-04-10 00:00:00.000000', 'Open': 112.47000122070312, 'High': 116.70999908447266, 'Low': 112.44999694824219, 'Close': 116.5, 'Adj Close': 116.5, 'Volume': 4096500, 'Label': 'AMAT'}, {'Date': '2023-04-11 00:00:00.000000', 'Open': 117.33000183105469, 'High': 117.83000183105469, 'Low': 116.08000183105469, 'Close': 116.37999725341797, 'Adj Close': 116.37999725341797, 'Volume': 3373000, 'Label': 'AMAT'}, {'Date': '2023-04-12 00:00:00.000000', 'Open': 117.7300033569336, 'High': 117.80000305175781, 'Low': 112.87000274658203, 'Close': 113.16000366210938, 'Adj Close': 113.16000366210938, 'Volume': 5837200, 'Label': 'AMAT'}, {'Date': '2023-04-13 11:27:06.787608', 'Open': 113.53, 'High': 113.88, 'Low': 111.515, 'Close': 113.24, 'Adj Close': 113.24, 'Volume': 2015788, 'Label': 'AMAT'}]\n"
     ]
    },
    {
     "name": "stdout",
     "output_type": "stream",
     "text": [
      "[{'Date': '2023-02-13 00:00:00.000000', 'Open': 115.16999816894531, 'High': 116.72000122070312, 'Low': 114.55000305175781, 'Close': 116.52999877929688, 'Adj Close': 116.25773620605469, 'Volume': 4198200, 'Label': 'AMAT'}, {'Date': '2023-02-14 00:00:00.000000', 'Open': 114.87000274658203, 'High': 119.01000213623047, 'Low': 113.8499984741211, 'Close': 118.44000244140625, 'Adj Close': 118.16327667236328, 'Volume': 4870700, 'Label': 'AMAT'}, {'Date': '2023-02-15 00:00:00.000000', 'Open': 117.0, 'High': 119.58000183105469, 'Low': 115.98999786376953, 'Close': 119.45999908447266, 'Adj Close': 119.1808853149414, 'Volume': 4980000, 'Label': 'AMAT'}, {'Date': '2023-02-16 00:00:00.000000', 'Open': 116.87999725341797, 'High': 118.08000183105469, 'Low': 115.13999938964844, 'Close': 115.38999938964844, 'Adj Close': 115.12039947509766, 'Volume': 9117600, 'Label': 'AMAT'}, {'Date': '2023-02-17 00:00:00.000000', 'Open': 116.77999877929688, 'High': 117.4000015258789, 'Low': 113.37999725341797, 'Close': 115.44000244140625, 'Adj Close': 115.17028045654297, 'Volume': 9287100, 'Label': 'AMAT'}, {'Date': '2023-02-21 00:00:00.000000', 'Open': 113.63999938964844, 'High': 114.83000183105469, 'Low': 110.93000030517578, 'Close': 111.27999877929688, 'Adj Close': 111.0199966430664, 'Volume': 7583900, 'Label': 'AMAT'}, {'Date': '2023-02-22 00:00:00.000000', 'Open': 111.12000274658203, 'High': 112.37999725341797, 'Low': 109.4800033569336, 'Close': 110.41000366210938, 'Adj Close': 110.41000366210938, 'Volume': 5089200, 'Label': 'AMAT'}, {'Date': '2023-02-23 00:00:00.000000', 'Open': 112.54000091552734, 'High': 113.95999908447266, 'Low': 109.91000366210938, 'Close': 112.91000366210938, 'Adj Close': 112.91000366210938, 'Volume': 7136100, 'Label': 'AMAT'}, {'Date': '2023-02-24 00:00:00.000000', 'Open': 111.01000213623047, 'High': 112.0999984741211, 'Low': 110.37999725341797, 'Close': 111.30999755859375, 'Adj Close': 111.30999755859375, 'Volume': 5808400, 'Label': 'AMAT'}, {'Date': '2023-02-27 00:00:00.000000', 'Open': 113.51000213623047, 'High': 113.88999938964844, 'Low': 111.48999786376953, 'Close': 112.06999969482422, 'Adj Close': 112.06999969482422, 'Volume': 5362700, 'Label': 'AMAT'}, {'Date': '2023-02-28 00:00:00.000000', 'Open': 116.13999938964844, 'High': 118.06999969482422, 'Low': 114.8499984741211, 'Close': 116.1500015258789, 'Adj Close': 116.1500015258789, 'Volume': 13010900, 'Label': 'AMAT'}, {'Date': '2023-03-01 00:00:00.000000', 'Open': 117.69999694824219, 'High': 119.31999969482422, 'Low': 116.94000244140625, 'Close': 117.26000213623047, 'Adj Close': 117.26000213623047, 'Volume': 6756800, 'Label': 'AMAT'}, {'Date': '2023-03-02 00:00:00.000000', 'Open': 115.44999694824219, 'High': 119.08999633789062, 'Low': 113.93000030517578, 'Close': 118.44999694824219, 'Adj Close': 118.44999694824219, 'Volume': 6502200, 'Label': 'AMAT'}, {'Date': '2023-03-03 00:00:00.000000', 'Open': 118.75, 'High': 119.13999938964844, 'Low': 116.94999694824219, 'Close': 118.95999908447266, 'Adj Close': 118.95999908447266, 'Volume': 7232400, 'Label': 'AMAT'}, {'Date': '2023-03-06 00:00:00.000000', 'Open': 119.8499984741211, 'High': 121.5, 'Low': 118.22000122070312, 'Close': 118.54000091552734, 'Adj Close': 118.54000091552734, 'Volume': 5775700, 'Label': 'AMAT'}, {'Date': '2023-03-07 00:00:00.000000', 'Open': 118.33000183105469, 'High': 118.72000122070312, 'Low': 115.66000366210938, 'Close': 116.37000274658203, 'Adj Close': 116.37000274658203, 'Volume': 5225900, 'Label': 'AMAT'}, {'Date': '2023-03-08 00:00:00.000000', 'Open': 116.62000274658203, 'High': 119.0999984741211, 'Low': 116.62000274658203, 'Close': 118.6500015258789, 'Adj Close': 118.6500015258789, 'Volume': 4474900, 'Label': 'AMAT'}, {'Date': '2023-03-09 00:00:00.000000', 'Open': 118.69000244140625, 'High': 120.95999908447266, 'Low': 116.8499984741211, 'Close': 117.04000091552734, 'Adj Close': 117.04000091552734, 'Volume': 5701400, 'Label': 'AMAT'}, {'Date': '2023-03-10 00:00:00.000000', 'Open': 118.33999633789062, 'High': 118.62000274658203, 'Low': 113.91999816894531, 'Close': 114.38999938964844, 'Adj Close': 114.38999938964844, 'Volume': 7009600, 'Label': 'AMAT'}, {'Date': '2023-03-13 00:00:00.000000', 'Open': 113.79000091552734, 'High': 117.31999969482422, 'Low': 111.91999816894531, 'Close': 115.83999633789062, 'Adj Close': 115.83999633789062, 'Volume': 8221300, 'Label': 'AMAT'}, {'Date': '2023-03-14 00:00:00.000000', 'Open': 118.77999877929688, 'High': 121.23999786376953, 'Low': 117.87999725341797, 'Close': 120.33999633789062, 'Adj Close': 120.33999633789062, 'Volume': 8322400, 'Label': 'AMAT'}, {'Date': '2023-03-15 00:00:00.000000', 'Open': 118.5199966430664, 'High': 118.83000183105469, 'Low': 115.69999694824219, 'Close': 118.4800033569336, 'Adj Close': 118.4800033569336, 'Volume': 9517700, 'Label': 'AMAT'}, {'Date': '2023-03-16 00:00:00.000000', 'Open': 118.20999908447266, 'High': 123.43000030517578, 'Low': 116.9000015258789, 'Close': 122.83000183105469, 'Adj Close': 122.83000183105469, 'Volume': 6787700, 'Label': 'AMAT'}, {'Date': '2023-03-17 00:00:00.000000', 'Open': 123.6500015258789, 'High': 124.38999938964844, 'Low': 121.62000274658203, 'Close': 122.5999984741211, 'Adj Close': 122.5999984741211, 'Volume': 13761500, 'Label': 'AMAT'}, {'Date': '2023-03-20 00:00:00.000000', 'Open': 123.0, 'High': 124.76000213623047, 'Low': 122.43000030517578, 'Close': 124.04000091552734, 'Adj Close': 124.04000091552734, 'Volume': 4974700, 'Label': 'AMAT'}, {'Date': '2023-03-21 00:00:00.000000', 'Open': 123.87999725341797, 'High': 125.62000274658203, 'Low': 118.41000366210938, 'Close': 120.4000015258789, 'Adj Close': 120.4000015258789, 'Volume': 10090100, 'Label': 'AMAT'}, {'Date': '2023-03-22 00:00:00.000000', 'Open': 120.2699966430664, 'High': 123.73999786376953, 'Low': 118.69000244140625, 'Close': 118.86000061035156, 'Adj Close': 118.86000061035156, 'Volume': 8342500, 'Label': 'AMAT'}, {'Date': '2023-03-23 00:00:00.000000', 'Open': 121.2699966430664, 'High': 124.98999786376953, 'Low': 120.16999816894531, 'Close': 122.77999877929688, 'Adj Close': 122.77999877929688, 'Volume': 6182200, 'Label': 'AMAT'}, {'Date': '2023-03-24 00:00:00.000000', 'Open': 121.63999938964844, 'High': 122.12000274658203, 'Low': 118.05000305175781, 'Close': 119.52999877929688, 'Adj Close': 119.52999877929688, 'Volume': 6354500, 'Label': 'AMAT'}, {'Date': '2023-03-27 00:00:00.000000', 'Open': 120.75, 'High': 120.9800033569336, 'Low': 118.31999969482422, 'Close': 118.87000274658203, 'Adj Close': 118.87000274658203, 'Volume': 4628200, 'Label': 'AMAT'}, {'Date': '2023-03-28 00:00:00.000000', 'Open': 118.88999938964844, 'High': 119.05999755859375, 'Low': 115.58000183105469, 'Close': 116.4000015258789, 'Adj Close': 116.4000015258789, 'Volume': 5523800, 'Label': 'AMAT'}, {'Date': '2023-03-29 00:00:00.000000', 'Open': 118.72000122070312, 'High': 121.01000213623047, 'Low': 117.36000061035156, 'Close': 119.8499984741211, 'Adj Close': 119.8499984741211, 'Volume': 7865300, 'Label': 'AMAT'}, {'Date': '2023-03-30 00:00:00.000000', 'Open': 122.0, 'High': 123.37999725341797, 'Low': 121.33999633789062, 'Close': 122.11000061035156, 'Adj Close': 122.11000061035156, 'Volume': 6213800, 'Label': 'AMAT'}, {'Date': '2023-03-31 00:00:00.000000', 'Open': 121.5199966430664, 'High': 123.5199966430664, 'Low': 121.0, 'Close': 122.83000183105469, 'Adj Close': 122.83000183105469, 'Volume': 5014600, 'Label': 'AMAT'}, {'Date': '2023-04-03 00:00:00.000000', 'Open': 121.62999725341797, 'High': 122.44000244140625, 'Low': 120.5999984741211, 'Close': 122.31999969482422, 'Adj Close': 122.31999969482422, 'Volume': 5146800, 'Label': 'AMAT'}, {'Date': '2023-04-04 00:00:00.000000', 'Open': 122.94000244140625, 'High': 122.97000122070312, 'Low': 119.38999938964844, 'Close': 120.12000274658203, 'Adj Close': 120.12000274658203, 'Volume': 4772200, 'Label': 'AMAT'}, {'Date': '2023-04-05 00:00:00.000000', 'Open': 119.58999633789062, 'High': 119.69000244140625, 'Low': 115.6500015258789, 'Close': 117.31999969482422, 'Adj Close': 117.31999969482422, 'Volume': 6691700, 'Label': 'AMAT'}, {'Date': '2023-04-06 00:00:00.000000', 'Open': 114.18000030517578, 'High': 115.29000091552734, 'Low': 111.87000274658203, 'Close': 114.44999694824219, 'Adj Close': 114.44999694824219, 'Volume': 6275000, 'Label': 'AMAT'}, {'Date': '2023-04-10 00:00:00.000000', 'Open': 112.47000122070312, 'High': 116.70999908447266, 'Low': 112.44999694824219, 'Close': 116.5, 'Adj Close': 116.5, 'Volume': 4096500, 'Label': 'AMAT'}, {'Date': '2023-04-11 00:00:00.000000', 'Open': 117.33000183105469, 'High': 117.83000183105469, 'Low': 116.08000183105469, 'Close': 116.37999725341797, 'Adj Close': 116.37999725341797, 'Volume': 3373000, 'Label': 'AMAT'}, {'Date': '2023-04-12 00:00:00.000000', 'Open': 117.7300033569336, 'High': 117.80000305175781, 'Low': 112.87000274658203, 'Close': 113.16000366210938, 'Adj Close': 113.16000366210938, 'Volume': 5837200, 'Label': 'AMAT'}, {'Date': '2023-04-13 11:27:06.787608', 'Open': 113.53, 'High': 113.88, 'Low': 111.515, 'Close': 113.24, 'Adj Close': 113.24, 'Volume': 2015788, 'Label': 'AMAT'}]\n"
     ]
    },
    {
     "name": "stdout",
     "output_type": "stream",
     "text": [
      "[{'Date': '2023-02-13 00:00:00.000000', 'Open': 115.16999816894531, 'High': 116.72000122070312, 'Low': 114.55000305175781, 'Close': 116.52999877929688, 'Adj Close': 116.25773620605469, 'Volume': 4198200, 'Label': 'AMAT'}, {'Date': '2023-02-14 00:00:00.000000', 'Open': 114.87000274658203, 'High': 119.01000213623047, 'Low': 113.8499984741211, 'Close': 118.44000244140625, 'Adj Close': 118.16327667236328, 'Volume': 4870700, 'Label': 'AMAT'}, {'Date': '2023-02-15 00:00:00.000000', 'Open': 117.0, 'High': 119.58000183105469, 'Low': 115.98999786376953, 'Close': 119.45999908447266, 'Adj Close': 119.1808853149414, 'Volume': 4980000, 'Label': 'AMAT'}, {'Date': '2023-02-16 00:00:00.000000', 'Open': 116.87999725341797, 'High': 118.08000183105469, 'Low': 115.13999938964844, 'Close': 115.38999938964844, 'Adj Close': 115.12039947509766, 'Volume': 9117600, 'Label': 'AMAT'}, {'Date': '2023-02-17 00:00:00.000000', 'Open': 116.77999877929688, 'High': 117.4000015258789, 'Low': 113.37999725341797, 'Close': 115.44000244140625, 'Adj Close': 115.17028045654297, 'Volume': 9287100, 'Label': 'AMAT'}, {'Date': '2023-02-21 00:00:00.000000', 'Open': 113.63999938964844, 'High': 114.83000183105469, 'Low': 110.93000030517578, 'Close': 111.27999877929688, 'Adj Close': 111.0199966430664, 'Volume': 7583900, 'Label': 'AMAT'}, {'Date': '2023-02-22 00:00:00.000000', 'Open': 111.12000274658203, 'High': 112.37999725341797, 'Low': 109.4800033569336, 'Close': 110.41000366210938, 'Adj Close': 110.41000366210938, 'Volume': 5089200, 'Label': 'AMAT'}, {'Date': '2023-02-23 00:00:00.000000', 'Open': 112.54000091552734, 'High': 113.95999908447266, 'Low': 109.91000366210938, 'Close': 112.91000366210938, 'Adj Close': 112.91000366210938, 'Volume': 7136100, 'Label': 'AMAT'}, {'Date': '2023-02-24 00:00:00.000000', 'Open': 111.01000213623047, 'High': 112.0999984741211, 'Low': 110.37999725341797, 'Close': 111.30999755859375, 'Adj Close': 111.30999755859375, 'Volume': 5808400, 'Label': 'AMAT'}, {'Date': '2023-02-27 00:00:00.000000', 'Open': 113.51000213623047, 'High': 113.88999938964844, 'Low': 111.48999786376953, 'Close': 112.06999969482422, 'Adj Close': 112.06999969482422, 'Volume': 5362700, 'Label': 'AMAT'}, {'Date': '2023-02-28 00:00:00.000000', 'Open': 116.13999938964844, 'High': 118.06999969482422, 'Low': 114.8499984741211, 'Close': 116.1500015258789, 'Adj Close': 116.1500015258789, 'Volume': 13010900, 'Label': 'AMAT'}, {'Date': '2023-03-01 00:00:00.000000', 'Open': 117.69999694824219, 'High': 119.31999969482422, 'Low': 116.94000244140625, 'Close': 117.26000213623047, 'Adj Close': 117.26000213623047, 'Volume': 6756800, 'Label': 'AMAT'}, {'Date': '2023-03-02 00:00:00.000000', 'Open': 115.44999694824219, 'High': 119.08999633789062, 'Low': 113.93000030517578, 'Close': 118.44999694824219, 'Adj Close': 118.44999694824219, 'Volume': 6502200, 'Label': 'AMAT'}, {'Date': '2023-03-03 00:00:00.000000', 'Open': 118.75, 'High': 119.13999938964844, 'Low': 116.94999694824219, 'Close': 118.95999908447266, 'Adj Close': 118.95999908447266, 'Volume': 7232400, 'Label': 'AMAT'}, {'Date': '2023-03-06 00:00:00.000000', 'Open': 119.8499984741211, 'High': 121.5, 'Low': 118.22000122070312, 'Close': 118.54000091552734, 'Adj Close': 118.54000091552734, 'Volume': 5775700, 'Label': 'AMAT'}, {'Date': '2023-03-07 00:00:00.000000', 'Open': 118.33000183105469, 'High': 118.72000122070312, 'Low': 115.66000366210938, 'Close': 116.37000274658203, 'Adj Close': 116.37000274658203, 'Volume': 5225900, 'Label': 'AMAT'}, {'Date': '2023-03-08 00:00:00.000000', 'Open': 116.62000274658203, 'High': 119.0999984741211, 'Low': 116.62000274658203, 'Close': 118.6500015258789, 'Adj Close': 118.6500015258789, 'Volume': 4474900, 'Label': 'AMAT'}, {'Date': '2023-03-09 00:00:00.000000', 'Open': 118.69000244140625, 'High': 120.95999908447266, 'Low': 116.8499984741211, 'Close': 117.04000091552734, 'Adj Close': 117.04000091552734, 'Volume': 5701400, 'Label': 'AMAT'}, {'Date': '2023-03-10 00:00:00.000000', 'Open': 118.33999633789062, 'High': 118.62000274658203, 'Low': 113.91999816894531, 'Close': 114.38999938964844, 'Adj Close': 114.38999938964844, 'Volume': 7009600, 'Label': 'AMAT'}, {'Date': '2023-03-13 00:00:00.000000', 'Open': 113.79000091552734, 'High': 117.31999969482422, 'Low': 111.91999816894531, 'Close': 115.83999633789062, 'Adj Close': 115.83999633789062, 'Volume': 8221300, 'Label': 'AMAT'}, {'Date': '2023-03-14 00:00:00.000000', 'Open': 118.77999877929688, 'High': 121.23999786376953, 'Low': 117.87999725341797, 'Close': 120.33999633789062, 'Adj Close': 120.33999633789062, 'Volume': 8322400, 'Label': 'AMAT'}, {'Date': '2023-03-15 00:00:00.000000', 'Open': 118.5199966430664, 'High': 118.83000183105469, 'Low': 115.69999694824219, 'Close': 118.4800033569336, 'Adj Close': 118.4800033569336, 'Volume': 9517700, 'Label': 'AMAT'}, {'Date': '2023-03-16 00:00:00.000000', 'Open': 118.20999908447266, 'High': 123.43000030517578, 'Low': 116.9000015258789, 'Close': 122.83000183105469, 'Adj Close': 122.83000183105469, 'Volume': 6787700, 'Label': 'AMAT'}, {'Date': '2023-03-17 00:00:00.000000', 'Open': 123.6500015258789, 'High': 124.38999938964844, 'Low': 121.62000274658203, 'Close': 122.5999984741211, 'Adj Close': 122.5999984741211, 'Volume': 13761500, 'Label': 'AMAT'}, {'Date': '2023-03-20 00:00:00.000000', 'Open': 123.0, 'High': 124.76000213623047, 'Low': 122.43000030517578, 'Close': 124.04000091552734, 'Adj Close': 124.04000091552734, 'Volume': 4974700, 'Label': 'AMAT'}, {'Date': '2023-03-21 00:00:00.000000', 'Open': 123.87999725341797, 'High': 125.62000274658203, 'Low': 118.41000366210938, 'Close': 120.4000015258789, 'Adj Close': 120.4000015258789, 'Volume': 10090100, 'Label': 'AMAT'}, {'Date': '2023-03-22 00:00:00.000000', 'Open': 120.2699966430664, 'High': 123.73999786376953, 'Low': 118.69000244140625, 'Close': 118.86000061035156, 'Adj Close': 118.86000061035156, 'Volume': 8342500, 'Label': 'AMAT'}, {'Date': '2023-03-23 00:00:00.000000', 'Open': 121.2699966430664, 'High': 124.98999786376953, 'Low': 120.16999816894531, 'Close': 122.77999877929688, 'Adj Close': 122.77999877929688, 'Volume': 6182200, 'Label': 'AMAT'}, {'Date': '2023-03-24 00:00:00.000000', 'Open': 121.63999938964844, 'High': 122.12000274658203, 'Low': 118.05000305175781, 'Close': 119.52999877929688, 'Adj Close': 119.52999877929688, 'Volume': 6354500, 'Label': 'AMAT'}, {'Date': '2023-03-27 00:00:00.000000', 'Open': 120.75, 'High': 120.9800033569336, 'Low': 118.31999969482422, 'Close': 118.87000274658203, 'Adj Close': 118.87000274658203, 'Volume': 4628200, 'Label': 'AMAT'}, {'Date': '2023-03-28 00:00:00.000000', 'Open': 118.88999938964844, 'High': 119.05999755859375, 'Low': 115.58000183105469, 'Close': 116.4000015258789, 'Adj Close': 116.4000015258789, 'Volume': 5523800, 'Label': 'AMAT'}, {'Date': '2023-03-29 00:00:00.000000', 'Open': 118.72000122070312, 'High': 121.01000213623047, 'Low': 117.36000061035156, 'Close': 119.8499984741211, 'Adj Close': 119.8499984741211, 'Volume': 7865300, 'Label': 'AMAT'}, {'Date': '2023-03-30 00:00:00.000000', 'Open': 122.0, 'High': 123.37999725341797, 'Low': 121.33999633789062, 'Close': 122.11000061035156, 'Adj Close': 122.11000061035156, 'Volume': 6213800, 'Label': 'AMAT'}, {'Date': '2023-03-31 00:00:00.000000', 'Open': 121.5199966430664, 'High': 123.5199966430664, 'Low': 121.0, 'Close': 122.83000183105469, 'Adj Close': 122.83000183105469, 'Volume': 5014600, 'Label': 'AMAT'}, {'Date': '2023-04-03 00:00:00.000000', 'Open': 121.62999725341797, 'High': 122.44000244140625, 'Low': 120.5999984741211, 'Close': 122.31999969482422, 'Adj Close': 122.31999969482422, 'Volume': 5146800, 'Label': 'AMAT'}, {'Date': '2023-04-04 00:00:00.000000', 'Open': 122.94000244140625, 'High': 122.97000122070312, 'Low': 119.38999938964844, 'Close': 120.12000274658203, 'Adj Close': 120.12000274658203, 'Volume': 4772200, 'Label': 'AMAT'}, {'Date': '2023-04-05 00:00:00.000000', 'Open': 119.58999633789062, 'High': 119.69000244140625, 'Low': 115.6500015258789, 'Close': 117.31999969482422, 'Adj Close': 117.31999969482422, 'Volume': 6691700, 'Label': 'AMAT'}, {'Date': '2023-04-06 00:00:00.000000', 'Open': 114.18000030517578, 'High': 115.29000091552734, 'Low': 111.87000274658203, 'Close': 114.44999694824219, 'Adj Close': 114.44999694824219, 'Volume': 6275000, 'Label': 'AMAT'}, {'Date': '2023-04-10 00:00:00.000000', 'Open': 112.47000122070312, 'High': 116.70999908447266, 'Low': 112.44999694824219, 'Close': 116.5, 'Adj Close': 116.5, 'Volume': 4096500, 'Label': 'AMAT'}, {'Date': '2023-04-11 00:00:00.000000', 'Open': 117.33000183105469, 'High': 117.83000183105469, 'Low': 116.08000183105469, 'Close': 116.37999725341797, 'Adj Close': 116.37999725341797, 'Volume': 3373000, 'Label': 'AMAT'}, {'Date': '2023-04-12 00:00:00.000000', 'Open': 117.7300033569336, 'High': 117.80000305175781, 'Low': 112.87000274658203, 'Close': 113.16000366210938, 'Adj Close': 113.16000366210938, 'Volume': 5837200, 'Label': 'AMAT'}, {'Date': '2023-04-13 11:27:06.787608', 'Open': 113.53, 'High': 113.88, 'Low': 111.515, 'Close': 113.24, 'Adj Close': 113.24, 'Volume': 2015788, 'Label': 'AMAT'}]\n"
     ]
    },
    {
     "ename": "KeyboardInterrupt",
     "evalue": "",
     "output_type": "error",
     "traceback": [
      "\u001b[1;31m---------------------------------------------------------------------------\u001b[0m",
      "\u001b[1;31mKeyboardInterrupt\u001b[0m                         Traceback (most recent call last)",
      "Input \u001b[1;32mIn [25]\u001b[0m, in \u001b[0;36m<cell line: 1>\u001b[1;34m()\u001b[0m\n\u001b[0;32m     34\u001b[0m iteration_counter \u001b[38;5;241m+\u001b[39m\u001b[38;5;241m=\u001b[39m \u001b[38;5;241m1\u001b[39m   \n\u001b[0;32m     36\u001b[0m \u001b[38;5;66;03m# send producer to sleep \u001b[39;00m\n\u001b[1;32m---> 37\u001b[0m \u001b[43msleep\u001b[49m\u001b[43m(\u001b[49m\u001b[38;5;241;43m120\u001b[39;49m\u001b[43m)\u001b[49m\n",
      "\u001b[1;31mKeyboardInterrupt\u001b[0m: "
     ]
    }
   ],
   "source": [
    "if __name__ == '__main__':\n",
    "   \n",
    "    \n",
    "    ## SET TOPIC AND DATA TO BE SENT\n",
    "    \n",
    "    topic = 'stock_ticker'\n",
    "    \n",
    "    #all_data = df.to_dict(orient='records')\n",
    "    \n",
    "    ## SET THE PRODUCERS\n",
    "    \n",
    "    #producer = connect_kafka_producer()\n",
    "    \n",
    "    \n",
    "    \n",
    "    ## GET DATA AND META DATA FOR EACH KEY\n",
    "    \n",
    "    \n",
    "    iteration_counter = 0\n",
    "    \n",
    "\n",
    "    # start the data publishing process\n",
    "    print('Publishing records..')\n",
    "    \n",
    "    # set a continous loop to produce and publish data\n",
    "    df_Historical = GetHistoricalData()\n",
    "    while True: \n",
    "            df_live = GetLiveData()\n",
    "            df_all = df_Historical.append(df_live, ignore_index = True)\n",
    "            df_all['Date'] =df_all['Date'].astype(str)\n",
    "            all_data = df_all.to_dict(orient='records')\n",
    "            publish_message(producer, topic, all_data)\n",
    "                \n",
    "         \n",
    "            \n",
    "            if iteration_counter > 100:\n",
    "                break\n",
    "                \n",
    "            iteration_counter += 1   \n",
    "            \n",
    "            # send producer to sleep \n",
    "            sleep(120)\n"
   ]
  },
  {
   "cell_type": "code",
   "execution_count": null,
   "metadata": {},
   "outputs": [],
   "source": []
  },
  {
   "cell_type": "code",
   "execution_count": null,
   "metadata": {},
   "outputs": [],
   "source": []
  }
 ],
 "metadata": {
  "kernelspec": {
   "display_name": "Python 3 (ipykernel)",
   "language": "python",
   "name": "python3"
  },
  "language_info": {
   "codemirror_mode": {
    "name": "ipython",
    "version": 3
   },
   "file_extension": ".py",
   "mimetype": "text/x-python",
   "name": "python",
   "nbconvert_exporter": "python",
   "pygments_lexer": "ipython3",
   "version": "3.8.0"
  }
 },
 "nbformat": 4,
 "nbformat_minor": 4
}
