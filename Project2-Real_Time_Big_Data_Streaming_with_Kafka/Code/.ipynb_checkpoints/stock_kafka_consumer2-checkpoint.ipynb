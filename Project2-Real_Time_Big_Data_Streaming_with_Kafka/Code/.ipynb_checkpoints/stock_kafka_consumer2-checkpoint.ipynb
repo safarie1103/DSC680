{
 "cells": [
  {
   "cell_type": "markdown",
   "metadata": {
    "colab_type": "text",
    "id": "view-in-github"
   },
   "source": [
    "<a href=\"https://colab.research.google.com/github/safarie1103/dsc650/blob/master/ExternalResources/Real_Time_Big_Data_Streaming_Spark_Kafka-main/flight_kafka_consumer.ipynb\" target=\"_parent\"><img src=\"https://colab.research.google.com/assets/colab-badge.svg\" alt=\"Open In Colab\"/></a>"
   ]
  },
  {
   "cell_type": "markdown",
   "metadata": {
    "id": "jnUz6JgBLgjl"
   },
   "source": [
    "# <font color=blue> Real Time Stock Ticker Streaming - Kafka Consumer </font>\n"
   ]
  },
  {
   "cell_type": "code",
   "execution_count": null,
   "metadata": {
    "colab": {
     "base_uri": "https://localhost:8080/"
    },
    "id": "zLLDp3h5LmrQ",
    "outputId": "6a9a1bec-39a2-4a6b-b185-9e70362e109d"
   },
   "outputs": [],
   "source": [
    "!pip install kafka-python"
   ]
  },
  {
   "cell_type": "markdown",
   "metadata": {
    "id": "GhrvMnDZLgjq"
   },
   "source": [
    "Consuming data the data being streamed using Kafka and plotting it."
   ]
  },
  {
   "cell_type": "code",
   "execution_count": null,
   "metadata": {
    "id": "rPZG0TgzLgjr"
   },
   "outputs": [],
   "source": [
    "# import statements\n",
    "import pandas as pd\n",
    "from time import sleep\n",
    "from kafka import KafkaConsumer\n",
    "import datetime as dt\n",
    "import matplotlib\n",
    "import numpy as np\n",
    "import copy\n",
    "import matplotlib.pyplot as plt\n",
    "from json import loads"
   ]
  },
  {
   "cell_type": "markdown",
   "metadata": {
    "id": "UcTEMzYkLgjt"
   },
   "source": [
    "## Step 1\n",
    "\n",
    "#### Set topic, connect consumer to producer and set plotting function"
   ]
  },
  {
   "cell_type": "code",
   "execution_count": null,
   "metadata": {
    "id": "0k4nl-nLLgju"
   },
   "outputs": [],
   "source": [
    "# set the topic of the consumer\n",
    "topic = 'stock_ticker'\n",
    "\n",
    "# function to connect to kafka consumer\n",
    "# taken from tutorial week 9\n",
    "def connect_kafka_consumer():\n",
    "    _consumer = None\n",
    "    try:\n",
    "         _consumer = KafkaConsumer(topic,\n",
    "                                   consumer_timeout_ms=240000, # stop iteration if no message after 10 sec\n",
    "                                   auto_offset_reset='latest', # comment this if you don't want to consume earliest available message\n",
    "                                   bootstrap_servers=['192.168.86.48:9092'],\n",
    "                                   value_deserializer=lambda x: loads(x.decode('ascii')),\n",
    "                                   api_version=(0, 11,5))\n",
    "    except Exception as ex:\n",
    "        print('Exception while connecting Kafka')\n",
    "        print(str(ex))\n",
    "    finally:\n",
    "        return _consumer\n",
    "\n",
    "    \n",
    "# function to set up the plotting area\n",
    "# taken from tutorial week 9\n",
    "def init_plots():\n",
    "    try:\n",
    "        width = 20\n",
    "        height = 25\n",
    "        fig = plt.figure(figsize=(width,height)) # create new figure\n",
    "        ax = fig.add_subplot(111) # adding the subplot axes to the given grid position\n",
    "        #fig.suptitle('Technical Indicators') # giving figure a title\n",
    "        #ax.set_xlabel('Date')\n",
    "        #ax.set_ylabel('countFlightRecords')        \n",
    "        #fig.show() # displaying the figure\n",
    "        #fig.canvas.draw() # drawing on the canvas\n",
    "        return fig, ax\n",
    "    except Exception as ex:\n",
    "        print(str(ex))"
   ]
  },
  {
   "cell_type": "code",
   "execution_count": null,
   "metadata": {},
   "outputs": [],
   "source": [
    "%matplotlib notebook\n",
    "plt.style.use('fivethirtyeight')\n",
    "def Aroon_Oscillator(df, tf=25):\n",
    "    aroonup = []\n",
    "    aroondown = []\n",
    "    x = tf\n",
    "    while x< len(df['Date']):\n",
    "        aroon_up = ((df['High'][x-tf:x].tolist().index(max(df['High'][x-tf:x])))/float(tf))*100\n",
    "        aroon_down = ((df['Low'][x-tf:x].tolist().index(min(df['Low'][x-tf:x])))/float(tf))*100\n",
    "        aroonup.append(aroon_up)\n",
    "        aroondown.append(aroon_down)\n",
    "        x+=1\n",
    "    return aroonup, aroondown\n",
    "\n",
    "def GetMessage(consumer,fig, ax):\n",
    "    try:\n",
    "        \n",
    "        for message in consumer: \n",
    "                data = []\n",
    "                #print(\"New Data...\")\n",
    "                for stock in range(len(message.value)):            \n",
    "                    df = pd.DataFrame.from_dict(message.value[stock])               \n",
    "                    df['Date'] = pd.to_datetime(df['Date'])\n",
    "                    df = df.reset_index()\n",
    "                    #df = df.set_index('Date')     \n",
    "                    data.append(df)\n",
    "\n",
    "                TechIndicator = copy.deepcopy(data)\n",
    "\n",
    "                #print(TechIndicator[0].index)\n",
    "                #print(len(TechIndicator))\n",
    "                \n",
    "\n",
    "\n",
    "                for stock in range(len(TechIndicator)):\n",
    "                    listofzeros = [0] * 25\n",
    "                    up, down = Aroon_Oscillator(TechIndicator[stock])\n",
    "                    aroon_list = [x - y for x, y in zip(up,down)]\n",
    "                    \n",
    "                    if len(aroon_list)==0:\n",
    "                        aroon_list = [0] * TechIndicator[stock].shape[0]\n",
    "                        TechIndicator[stock]['Aroon_Oscillator'] = aroon_list\n",
    "                    else:\n",
    "                        TechIndicator[stock]['Aroon_Oscillator'] = listofzeros+aroon_list\n",
    "                        \n",
    "                for i in range(len(TechIndicator)):\n",
    "                    ax = plt.subplot(4,2,i+1)\n",
    "                    ax.clear()\n",
    "                    ax.fill(TechIndicator[i]['Date'], TechIndicator[i]['Aroon_Oscillator'],'b', alpha = 0.5, label = \"Aroon Oscillator\")\n",
    "                    ax.plot(TechIndicator[i]['Date'], TechIndicator[i]['Close'], 'r', label=\"Close\")\n",
    "                    ax.set_title(\"Aroon Oscillator for \" +str(TechIndicator[i]['Label'][0]))\n",
    "                    ax.legend()\n",
    "                    ax.set_xlabel(\"Date\")\n",
    "                    ax.set_ylabel(\"Close Prices\")\n",
    "                    plt.xticks(rotation=30)\n",
    "                fig.tight_layout()\n",
    "                fig.canvas.draw()\n",
    "                #\"\"\"  \n",
    "        plt.close('all')\n",
    "    except Exception as ex:\n",
    "        print(str(ex))\n",
    "\n",
    "     \n",
    "         \n",
    "        "
   ]
  },
  {
   "cell_type": "code",
   "execution_count": null,
   "metadata": {
    "scrolled": false
   },
   "outputs": [],
   "source": [
    "if __name__ == '__main__':\n",
    "    \n",
    "    # call all required functions \n",
    "    consumer = connect_kafka_consumer()\n",
    "    fig, ax = init_plots()  \n",
    "    GetMessage(consumer,fig, ax)        \n",
    "    "
   ]
  },
  {
   "cell_type": "code",
   "execution_count": null,
   "metadata": {
    "id": "nlsH0bdWLgj1"
   },
   "outputs": [],
   "source": []
  }
 ],
 "metadata": {
  "colab": {
   "include_colab_link": true,
   "provenance": []
  },
  "kernelspec": {
   "display_name": "Python 3 (ipykernel)",
   "language": "python",
   "name": "python3"
  },
  "language_info": {
   "codemirror_mode": {
    "name": "ipython",
    "version": 3
   },
   "file_extension": ".py",
   "mimetype": "text/x-python",
   "name": "python",
   "nbconvert_exporter": "python",
   "pygments_lexer": "ipython3",
   "version": "3.8.0"
  },
  "pycharm": {
   "stem_cell": {
    "cell_type": "raw",
    "metadata": {
     "collapsed": false
    },
    "source": []
   }
  }
 },
 "nbformat": 4,
 "nbformat_minor": 1
}
