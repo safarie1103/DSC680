{
 "cells": [
  {
   "cell_type": "markdown",
   "metadata": {
    "_uuid": "57db1b5bed910e7912b40a830f224bb4111a7247",
    "id": "8Ti3Ov2X78Z7"
   },
   "source": [
    "# Stock Market Analysis"
   ]
  },
  {
   "cell_type": "code",
   "execution_count": null,
   "metadata": {
    "_uuid": "157052c97dc4e5327f7d92772af712c3dd1b2ee9",
    "execution": {
     "iopub.execute_input": "2022-06-17T06:52:59.538539Z",
     "iopub.status.busy": "2022-06-17T06:52:59.538142Z",
     "iopub.status.idle": "2022-06-17T06:52:59.548399Z",
     "shell.execute_reply": "2022-06-17T06:52:59.54731Z",
     "shell.execute_reply.started": "2022-06-17T06:52:59.53847Z"
    },
    "id": "Jawcgtc878aB"
   },
   "outputs": [],
   "source": [
    "# Import Modules\n",
    "import os\n",
    "import sys\n",
    "\n",
    "import json\n",
    "from pathlib import Path\n",
    "import numpy as np\n",
    "import pandas as pd\n",
    "import os\n",
    "import random\n",
    "import copy\n",
    "import matplotlib.pyplot as plt\n",
    "import pandas"
   ]
  },
  {
   "cell_type": "code",
   "execution_count": null,
   "metadata": {
    "pycharm": {
     "name": "#%%\n"
    }
   },
   "outputs": [],
   "source": [
    "import yfinance as yf\n",
    "from pandas_datareader import data as pdr\n",
    "from datetime import datetime\n",
    "yf.pdr_override()"
   ]
  },
  {
   "cell_type": "markdown",
   "metadata": {
    "_uuid": "21b6148e0b6715820352a8ecb4ce78b03dddec67",
    "id": "SJF5vMm478aE"
   },
   "source": [
    "## Read the data"
   ]
  },
  {
   "cell_type": "code",
   "execution_count": null,
   "metadata": {
    "pycharm": {
     "name": "#%%\n"
    }
   },
   "outputs": [],
   "source": [
    "end = datetime.now()\n",
    "start = datetime(end.year - 10, end.month, end.day)\n",
    "print(start,' ', end)\n",
    "stock_list = ['AAPL', 'GOOG', 'MSFT', 'AMZN','AMAT','LRCX','WOLF','KLAC']\n"
   ]
  },
  {
   "cell_type": "code",
   "execution_count": null,
   "metadata": {},
   "outputs": [],
   "source": [
    "data = []\n",
    "for stock in stock_list:\n",
    "    df = yf.download(stock, start, end)\n",
    "    df = df.reset_index()\n",
    "    df['Label'] = stock\n",
    "    df['Date'] = pd.to_datetime(df['Date'])\n",
    "    data.append(df)"
   ]
  },
  {
   "cell_type": "markdown",
   "metadata": {
    "_uuid": "1a03878c839eb38af512e38aa3316456bd8f94ea",
    "id": "6tE-VDPX78aL"
   },
   "source": [
    "### Read data into dataframes and create lable column from filename"
   ]
  },
  {
   "cell_type": "code",
   "execution_count": null,
   "metadata": {
    "_uuid": "f17dc027c74a5fc85ad87f88abcf0df854dae0a8",
    "colab": {
     "base_uri": "https://localhost:8080/",
     "height": 206
    },
    "execution": {
     "iopub.execute_input": "2022-06-17T06:53:40.235869Z",
     "iopub.status.busy": "2022-06-17T06:53:40.235422Z",
     "iopub.status.idle": "2022-06-17T06:53:40.274411Z",
     "shell.execute_reply": "2022-06-17T06:53:40.273497Z",
     "shell.execute_reply.started": "2022-06-17T06:53:40.235686Z"
    },
    "id": "iH7GD7m378aM",
    "outputId": "2137a36e-e5ec-4ebc-a3a2-e4075ca91279"
   },
   "outputs": [],
   "source": [
    "data[0].head()"
   ]
  },
  {
   "cell_type": "code",
   "execution_count": null,
   "metadata": {
    "colab": {
     "base_uri": "https://localhost:8080/",
     "height": 206
    },
    "id": "qciE2aKL78aN",
    "outputId": "07d5ff6f-0e9c-4f0c-e409-25887939ce2d"
   },
   "outputs": [],
   "source": [
    "data[1].head()"
   ]
  },
  {
   "cell_type": "code",
   "execution_count": null,
   "metadata": {
    "_uuid": "78553cec9fe1fa36ae118bc3a2a0d43abab73d8d",
    "colab": {
     "base_uri": "https://localhost:8080/"
    },
    "execution": {
     "iopub.execute_input": "2022-06-17T06:54:01.185623Z",
     "iopub.status.busy": "2022-06-17T06:54:01.184917Z",
     "iopub.status.idle": "2022-06-17T06:54:01.191741Z",
     "shell.execute_reply": "2022-06-17T06:54:01.190811Z",
     "shell.execute_reply.started": "2022-06-17T06:54:01.185551Z"
    },
    "id": "TzuXSiF878aO",
    "outputId": "6e29364b-a7d6-493f-b545-9f290d89aabd",
    "pycharm": {
     "name": "#%%\n"
    }
   },
   "outputs": [],
   "source": [
    "print(len(data))"
   ]
  },
  {
   "cell_type": "markdown",
   "metadata": {
    "_uuid": "29ab42f0056f5f43ac8e1c664b5fc23a210ab9e6",
    "id": "BJhMOa3d78aO"
   },
   "source": [
    "## Add Technical Indicators in the dataframe"
   ]
  },
  {
   "cell_type": "markdown",
   "metadata": {
    "_uuid": "8bdfccd1c8787e6dfe7aeee7c742a0f58f23e035",
    "id": "JYlsw2Rz78aO",
    "pycharm": {
     "name": "#%% md\n"
    }
   },
   "source": [
    "There are many types of Technical Indicators. \n",
    "The Technical Indicators we are considering are:\n",
    "- RSI\n",
    "- Volume (plain)\n",
    "- Bollinger Bands\n",
    "- Aroon Oscillator\n",
    "- Price Volume Trend\n",
    "- acceleration bands"
   ]
  },
  {
   "cell_type": "code",
   "execution_count": null,
   "metadata": {
    "_uuid": "5c6003ed6aa1fcc16c8f6d2016148e6d682a870c",
    "execution": {
     "iopub.execute_input": "2022-06-17T06:54:17.917146Z",
     "iopub.status.busy": "2022-06-17T06:54:17.916491Z",
     "iopub.status.idle": "2022-06-17T06:54:17.924669Z",
     "shell.execute_reply": "2022-06-17T06:54:17.924038Z",
     "shell.execute_reply.started": "2022-06-17T06:54:17.917078Z"
    },
    "id": "bx1ChfoX78aP",
    "pycharm": {
     "name": "#%%\n"
    }
   },
   "outputs": [],
   "source": [
    "TechIndicator = copy.deepcopy(data)"
   ]
  },
  {
   "cell_type": "markdown",
   "metadata": {
    "_uuid": "8a776a7da9bef539bd8e678dcc0b21f14e6318ff",
    "id": "5N9XPh8d78aP"
   },
   "source": [
    "## Calculation of Relative Strength Index (RSI)\n",
    "\n",
    "### Relative Strength Index\n",
    "### PriceUp = Price > 0\n",
    "### PriceDown = Price < 0\n",
    "### Avg(PriceUp)/(Avg(PriceUP)+Avg(PriceDown)*100\n",
    "### Where: PriceUp(t)=1*(Price(t)-Price(t-1)){Price(t)- Price(t-1)>0};\n",
    "### PriceDown(t)=-1*(Price(t)-Price(t-1)){Price(t)- Price(t-1)<0};\n"
   ]
  },
  {
   "cell_type": "code",
   "execution_count": null,
   "metadata": {
    "_uuid": "7c35101a0848a0bafe437b38b03c3a1ec1557ea5",
    "execution": {
     "iopub.execute_input": "2022-06-17T06:54:25.244811Z",
     "iopub.status.busy": "2022-06-17T06:54:25.24427Z",
     "iopub.status.idle": "2022-06-17T06:54:25.251562Z",
     "shell.execute_reply": "2022-06-17T06:54:25.250508Z",
     "shell.execute_reply.started": "2022-06-17T06:54:25.24475Z"
    },
    "id": "AnbqZ-Kz78aQ"
   },
   "outputs": [],
   "source": [
    "\n",
    "def rsi(values):\n",
    "    up = values[values>0].mean()\n",
    "    down = -1*values[values<0].mean()\n",
    "    return 100 * up / (up + down)\n"
   ]
  },
  {
   "cell_type": "code",
   "execution_count": null,
   "metadata": {
    "_uuid": "94e5c83b7778ad70faa595fed775c0ab150a846e",
    "colab": {
     "base_uri": "https://localhost:8080/",
     "height": 206
    },
    "execution": {
     "iopub.execute_input": "2022-06-17T06:54:52.532685Z",
     "iopub.status.busy": "2022-06-17T06:54:52.531996Z",
     "iopub.status.idle": "2022-06-17T06:54:53.189669Z",
     "shell.execute_reply": "2022-06-17T06:54:53.1888Z",
     "shell.execute_reply.started": "2022-06-17T06:54:52.532615Z"
    },
    "id": "92e8arDk78aR",
    "outputId": "71a6ae4e-1308-4c15-a2fa-c27597272c9b"
   },
   "outputs": [],
   "source": [
    "# Add Momentum_1D column for all stocks.\n",
    "# Momentum_1D = P(t) - P(t-1)\n",
    "for stock in range(len(TechIndicator)):\n",
    "    TechIndicator[stock]['Momentum_1D'] = (TechIndicator[stock]['Close']-TechIndicator[stock]['Close'].shift(1)).fillna(0)\n",
    "    TechIndicator[stock]['RSI_14D'] = TechIndicator[stock]['Momentum_1D'].rolling(center=False, window=14).apply(rsi).fillna(0)\n",
    "TechIndicator[1].tail(5)"
   ]
  },
  {
   "cell_type": "code",
   "execution_count": null,
   "metadata": {
    "colab": {
     "base_uri": "https://localhost:8080/",
     "height": 206
    },
    "id": "RBUwU9vW78aR",
    "outputId": "3bdc71d1-dab5-48cd-cdae-ee9c118b6fd9"
   },
   "outputs": [],
   "source": [
    "TechIndicator[1].head(5)"
   ]
  },
  {
   "cell_type": "code",
   "execution_count": null,
   "metadata": {
    "id": "FmH-dtdZ78aS",
    "pycharm": {
     "name": "#%%\n"
    }
   },
   "outputs": [],
   "source": [
    "import pandas as pd\n",
    "import seaborn as sns\n",
    "import matplotlib.pyplot as plt\n",
    "import plotly\n",
    "import plotly.express as px\n",
    "import numpy as np"
   ]
  },
  {
   "cell_type": "code",
   "execution_count": null,
   "metadata": {},
   "outputs": [],
   "source": []
  },
  {
   "cell_type": "markdown",
   "metadata": {
    "id": "mX_wqOpXYNmf"
   },
   "source": [
    "### Calculation of Volume (Plain)"
   ]
  },
  {
   "cell_type": "code",
   "execution_count": null,
   "metadata": {
    "_uuid": "632073a03b3cba10e849ecc315aad8d463206bf5",
    "colab": {
     "base_uri": "https://localhost:8080/",
     "height": 206
    },
    "execution": {
     "iopub.execute_input": "2022-06-17T06:56:24.840152Z",
     "iopub.status.busy": "2022-06-17T06:56:24.839721Z",
     "iopub.status.idle": "2022-06-17T06:56:24.879152Z",
     "shell.execute_reply": "2022-06-17T06:56:24.878383Z",
     "shell.execute_reply.started": "2022-06-17T06:56:24.840083Z"
    },
    "id": "4vcbzjWG78aU",
    "outputId": "3eef221f-0ad4-4cea-d7e0-6ae424bfad15",
    "pycharm": {
     "name": "#%%\n"
    }
   },
   "outputs": [],
   "source": [
    "for stock in range(len(TechIndicator)):\n",
    "    TechIndicator[stock]['Volume_plain'] = TechIndicator[stock]['Volume'].fillna(0)\n",
    "TechIndicator[0].tail()"
   ]
  },
  {
   "cell_type": "markdown",
   "metadata": {
    "_uuid": "617c8dc75d3975639e163a624d90817e92dff557",
    "id": "CDWSRMKW78aU",
    "pycharm": {
     "name": "#%% md\n"
    }
   },
   "source": [
    "### Calculation of Bollinger Bands"
   ]
  },
  {
   "cell_type": "code",
   "execution_count": null,
   "metadata": {
    "_uuid": "acc9cedf1e2d6953b81a4ae72544c58acb1c9b58",
    "execution": {
     "iopub.execute_input": "2022-06-17T06:56:34.396402Z",
     "iopub.status.busy": "2022-06-17T06:56:34.395999Z",
     "iopub.status.idle": "2022-06-17T06:56:34.407789Z",
     "shell.execute_reply": "2022-06-17T06:56:34.406895Z",
     "shell.execute_reply.started": "2022-06-17T06:56:34.396338Z"
    },
    "id": "amWsq0xe78aV"
   },
   "outputs": [],
   "source": [
    "def bbands(price, length=30, numsd=2):\n",
    "    \"\"\" returns average, upper band, and lower band\"\"\"\n",
    "    #ave = pd.stats.moments.rolling_mean(price,length)\n",
    "    ave = price.rolling(window = length, center = False).mean()\n",
    "    #sd = pd.stats.moments.rolling_std(price,length)\n",
    "    sd = price.rolling(window = length, center = False).std()\n",
    "    upband = ave + (sd*numsd)\n",
    "    dnband = ave - (sd*numsd)\n",
    "    return np.round(ave,3), np.round(upband,3), np.round(dnband,3)"
   ]
  },
  {
   "cell_type": "code",
   "execution_count": null,
   "metadata": {
    "_uuid": "12947b64f91bb8015614c06ae2b606a727ee433e",
    "colab": {
     "base_uri": "https://localhost:8080/",
     "height": 206
    },
    "execution": {
     "iopub.execute_input": "2022-06-17T06:56:38.985648Z",
     "iopub.status.busy": "2022-06-17T06:56:38.984973Z",
     "iopub.status.idle": "2022-06-17T06:56:39.060873Z",
     "shell.execute_reply": "2022-06-17T06:56:39.060294Z",
     "shell.execute_reply.started": "2022-06-17T06:56:38.9856Z"
    },
    "id": "YxIqgjaf78aV",
    "outputId": "58183859-564a-41d5-fb2a-100b107a224f",
    "pycharm": {
     "name": "#%%\n"
    }
   },
   "outputs": [],
   "source": [
    "for stock in range(len(TechIndicator)):\n",
    "    TechIndicator[stock]['BB_Middle_Band'], TechIndicator[stock]['BB_Upper_Band'], TechIndicator[stock]['BB_Lower_Band'] = bbands(TechIndicator[stock]['Close'], length=20, numsd=1)\n",
    "    TechIndicator[stock]['BB_Middle_Band'] = TechIndicator[stock]['BB_Middle_Band'].fillna(0)\n",
    "    TechIndicator[stock]['BB_Upper_Band'] = TechIndicator[stock]['BB_Upper_Band'].fillna(0)\n",
    "    TechIndicator[stock]['BB_Lower_Band'] = TechIndicator[stock]['BB_Lower_Band'].fillna(0)\n",
    "TechIndicator[0].tail()"
   ]
  },
  {
   "cell_type": "markdown",
   "metadata": {
    "_uuid": "9e0b8632c8ef22496d49830e5e863b520e7bab69",
    "id": "Txwe7cNF78aV"
   },
   "source": [
    "### Calculation of Aroon Oscillator"
   ]
  },
  {
   "cell_type": "code",
   "execution_count": null,
   "metadata": {
    "_uuid": "6af8bd25e38828477bcd5d50cf9b6023da9a08b5",
    "execution": {
     "iopub.execute_input": "2022-06-17T07:05:38.430237Z",
     "iopub.status.busy": "2022-06-17T07:05:38.429837Z",
     "iopub.status.idle": "2022-06-17T07:05:38.446716Z",
     "shell.execute_reply": "2022-06-17T07:05:38.445923Z",
     "shell.execute_reply.started": "2022-06-17T07:05:38.430177Z"
    },
    "id": "Vxvl-ReU78aW",
    "pycharm": {
     "name": "#%%\n"
    }
   },
   "outputs": [],
   "source": [
    "def Aroon_Oscillator(df, tf=25):\n",
    "    aroonup = []\n",
    "    aroondown = []\n",
    "    x = tf\n",
    "    while x< len(df['Date']):\n",
    "        aroon_up = ((df['High'][x-tf:x].tolist().index(max(df['High'][x-tf:x])))/float(tf))*100\n",
    "        aroon_down = ((df['Low'][x-tf:x].tolist().index(min(df['Low'][x-tf:x])))/float(tf))*100\n",
    "        aroonup.append(aroon_up)\n",
    "        aroondown.append(aroon_down)\n",
    "        x+=1\n",
    "    return aroonup, aroondown"
   ]
  },
  {
   "cell_type": "code",
   "execution_count": null,
   "metadata": {
    "_uuid": "4210bfc34eb5a9ce883139053dc060d86785de75",
    "execution": {
     "iopub.execute_input": "2022-06-17T07:05:44.540994Z",
     "iopub.status.busy": "2022-06-17T07:05:44.54046Z",
     "iopub.status.idle": "2022-06-17T07:05:52.047102Z",
     "shell.execute_reply": "2022-06-17T07:05:52.046275Z",
     "shell.execute_reply.started": "2022-06-17T07:05:44.540758Z"
    },
    "id": "SBcUEV8U78aW",
    "pycharm": {
     "name": "#%%\n"
    }
   },
   "outputs": [],
   "source": [
    "for stock in range(len(TechIndicator)):\n",
    "    listofzeros = [0] * 25\n",
    "    up, down = Aroon_Oscillator(TechIndicator[stock])\n",
    "    aroon_list = [x - y for x, y in zip(up,down)]\n",
    "    if len(aroon_list)==0:\n",
    "        aroon_list = [0] * TechIndicator[stock].shape[0]\n",
    "        TechIndicator[stock]['Aroon_Oscillator'] = aroon_list\n",
    "    else:\n",
    "        TechIndicator[stock]['Aroon_Oscillator'] = listofzeros+aroon_list\n"
   ]
  },
  {
   "cell_type": "code",
   "execution_count": null,
   "metadata": {
    "colab": {
     "base_uri": "https://localhost:8080/",
     "height": 206
    },
    "id": "mkcTqcfIijnG",
    "outputId": "211b9f39-97bb-43a0-f0de-c0307b48af88"
   },
   "outputs": [],
   "source": [
    "TechIndicator[0].head()"
   ]
  },
  {
   "cell_type": "code",
   "execution_count": null,
   "metadata": {
    "colab": {
     "base_uri": "https://localhost:8080/",
     "height": 206
    },
    "id": "pl6D1tSjioHu",
    "outputId": "6de15562-9b2d-485d-90f8-23df80c2507c"
   },
   "outputs": [],
   "source": [
    "TechIndicator[0].tail()"
   ]
  },
  {
   "cell_type": "markdown",
   "metadata": {},
   "source": [
    "### Calculation of Price Volume Trend"
   ]
  },
  {
   "cell_type": "markdown",
   "metadata": {
    "_uuid": "63b1f6e96e5197c3f1d3998bbf31aaa00596b861",
    "id": "ZVzuZP-778aX",
    "pycharm": {
     "name": "#%% md\n"
    }
   },
   "source": [
    "PVT = [((CurrentClose - PreviousClose) / PreviousClose) x Volume] + PreviousPVT"
   ]
  },
  {
   "cell_type": "code",
   "execution_count": null,
   "metadata": {
    "_uuid": "9ec52055ae8131b7732b407336967a33f03b9ed4",
    "colab": {
     "base_uri": "https://localhost:8080/",
     "height": 337
    },
    "execution": {
     "iopub.execute_input": "2022-06-17T07:10:54.326442Z",
     "iopub.status.busy": "2022-06-17T07:10:54.326134Z",
     "iopub.status.idle": "2022-06-17T07:10:54.391418Z",
     "shell.execute_reply": "2022-06-17T07:10:54.39053Z",
     "shell.execute_reply.started": "2022-06-17T07:10:54.326406Z"
    },
    "id": "Q9m3tJk678aX",
    "outputId": "12570b0e-1487-4318-b94e-174200d5b444",
    "pycharm": {
     "name": "#%%\n"
    }
   },
   "outputs": [],
   "source": [
    "for stock in range(len(TechIndicator)):\n",
    "    TechIndicator[stock][\"PVT\"] = (TechIndicator[stock]['Momentum_1D']/ TechIndicator[stock]['Close'].shift(1))*TechIndicator[stock]['Volume']\n",
    "    TechIndicator[stock][\"PVT\"] = TechIndicator[stock][\"PVT\"]+TechIndicator[stock][\"PVT\"].shift(1)\n",
    "    TechIndicator[stock][\"PVT\"] = TechIndicator[stock][\"PVT\"].fillna(0)\n",
    "TechIndicator[0].tail()"
   ]
  },
  {
   "cell_type": "markdown",
   "metadata": {
    "_uuid": "3eb4a75e0e25a06fdcaaa970b63e459fd4506278",
    "id": "bPvf0Ija78aY",
    "pycharm": {
     "name": "#%% md\n"
    }
   },
   "source": [
    "### Calculation of Acceleration Bands"
   ]
  },
  {
   "cell_type": "markdown",
   "metadata": {
    "id": "BDy_3G_p78aY"
   },
   "source": [
    "lower envelope bands around a simple moving average. "
   ]
  },
  {
   "cell_type": "code",
   "execution_count": null,
   "metadata": {
    "_uuid": "0ff764f8078a402c5bd96d938a093bfdfe8a3a98",
    "execution": {
     "iopub.execute_input": "2022-06-17T07:11:17.482407Z",
     "iopub.status.busy": "2022-06-17T07:11:17.482062Z",
     "iopub.status.idle": "2022-06-17T07:11:17.496056Z",
     "shell.execute_reply": "2022-06-17T07:11:17.495096Z",
     "shell.execute_reply.started": "2022-06-17T07:11:17.482339Z"
    },
    "id": "TgPUCUxi78aY",
    "pycharm": {
     "name": "#%%\n"
    }
   },
   "outputs": [],
   "source": [
    "def abands(df):\n",
    "    #df['AB_Middle_Band'] = pd.rolling_mean(df['Close'], 20)\n",
    "    df['AB_Middle_Band'] = df['Close'].rolling(window = 20, center=False).mean()\n",
    "    # High * ( 1 + 4 * (High - Low) / (High + Low))\n",
    "    df['aupband'] = df['High'] * (1 + 4 * (df['High']-df['Low'])/(df['High']+df['Low']))\n",
    "    df['AB_Upper_Band'] = df['aupband'].rolling(window=20, center=False).mean()\n",
    "    # Low *(1 - 4 * (High - Low)/ (High + Low))\n",
    "    df['adownband'] = df['Low'] * (1 - 4 * (df['High']-df['Low'])/(df['High']+df['Low']))\n",
    "    df['AB_Lower_Band'] = df['adownband'].rolling(window=20, center=False).mean()"
   ]
  },
  {
   "cell_type": "code",
   "execution_count": null,
   "metadata": {
    "_uuid": "fdbf5245364608604a31203338d6516fe7b17344",
    "colab": {
     "base_uri": "https://localhost:8080/",
     "height": 386
    },
    "execution": {
     "iopub.execute_input": "2022-06-17T07:11:18.969737Z",
     "iopub.status.busy": "2022-06-17T07:11:18.969185Z",
     "iopub.status.idle": "2022-06-17T07:11:19.082641Z",
     "shell.execute_reply": "2022-06-17T07:11:19.081475Z",
     "shell.execute_reply.started": "2022-06-17T07:11:18.969488Z"
    },
    "id": "yJfBfpd_78aZ",
    "outputId": "9354de8c-4db0-4bd3-8b97-122180f8293e"
   },
   "outputs": [],
   "source": [
    "for stock in range(len(TechIndicator)):\n",
    "    abands(TechIndicator[stock])\n",
    "    TechIndicator[stock] = TechIndicator[stock].fillna(0)\n",
    "TechIndicator[0].tail()"
   ]
  },
  {
   "cell_type": "markdown",
   "metadata": {
    "_uuid": "5ce28252e8c94660ef8a2d12530276d0c449921a",
    "id": "_P2sUbti78aZ",
    "pycharm": {
     "name": "#%% md\n"
    }
   },
   "source": [
    "## Cleanup the tables"
   ]
  },
  {
   "cell_type": "code",
   "execution_count": null,
   "metadata": {
    "_uuid": "10558e9a8ab6208199f7f31d371b2c4372b817fa",
    "colab": {
     "base_uri": "https://localhost:8080/",
     "height": 357
    },
    "execution": {
     "iopub.execute_input": "2022-06-17T07:13:54.88043Z",
     "iopub.status.busy": "2022-06-17T07:13:54.87994Z",
     "iopub.status.idle": "2022-06-17T07:13:54.935996Z",
     "shell.execute_reply": "2022-06-17T07:13:54.935326Z",
     "shell.execute_reply.started": "2022-06-17T07:13:54.880234Z"
    },
    "id": "iW1JvH9v78aZ",
    "outputId": "b1f2287f-b575-4981-e6c7-c53f628a4218",
    "pycharm": {
     "name": "#%%\n"
    }
   },
   "outputs": [],
   "source": [
    "columns2Drop = ['Momentum_1D', 'aupband', 'adownband']\n",
    "for stock in range(len(TechIndicator)):\n",
    "    TechIndicator[stock] = TechIndicator[stock].drop(labels = columns2Drop, axis=1)\n",
    "TechIndicator[0].head()"
   ]
  },
  {
   "cell_type": "markdown",
   "metadata": {
    "id": "3uvZhjHa78au"
   },
   "source": [
    "# Visualization of technical indicators"
   ]
  },
  {
   "cell_type": "code",
   "execution_count": null,
   "metadata": {
    "id": "11QWdL8T78au",
    "pycharm": {
     "name": "#%%\n"
    }
   },
   "outputs": [],
   "source": [
    "for stock in range(len(TechIndicator)):\n",
    "    TechIndicator[stock].index = TechIndicator[stock]['Date']\n",
    "    TechIndicator[stock] = TechIndicator[stock].drop(labels = ['Date'], axis = 1)\n"
   ]
  },
  {
   "cell_type": "code",
   "execution_count": null,
   "metadata": {
    "colab": {
     "base_uri": "https://localhost:8080/",
     "height": 388
    },
    "id": "mz45fu9F78av",
    "outputId": "1b1d942b-7912-4f8a-a7a8-0b56851f1b11",
    "pycharm": {
     "name": "#%%\n"
    },
    "scrolled": true
   },
   "outputs": [],
   "source": [
    "TechIndicator[0].head()"
   ]
  },
  {
   "cell_type": "code",
   "execution_count": null,
   "metadata": {},
   "outputs": [],
   "source": [
    "%matplotlib inline\n",
    "\n",
    "# RSI Plot\n",
    "\n",
    "fig = plt.figure(figsize=(20,25))\n",
    "for i in range(len(TechIndicator)):\n",
    "    ax = plt.subplot(4,2,i+1)\n",
    "    ax.plot(TechIndicator[i].index, TechIndicator[i]['RSI_14D'])\n",
    "    ax.set_title(str(TechIndicator[i]['Label'][0]))\n",
    "    ax.set_xlabel(\"Date\")\n",
    "    ax.set_ylabel(\"Relative Strength Index\")\n",
    "    plt.xticks(rotation=30)\n",
    "fig.tight_layout()"
   ]
  },
  {
   "cell_type": "code",
   "execution_count": null,
   "metadata": {
    "_uuid": "7bcc8900a3e4fb8e0e192f6193e9402b444be9f7",
    "colab": {
     "base_uri": "https://localhost:8080/",
     "height": 1000
    },
    "id": "JXKjZqKI78ax",
    "jupyter": {
     "outputs_hidden": true
    },
    "outputId": "3c4d82ce-7d86-4533-aacb-514e1996dfed"
   },
   "outputs": [],
   "source": [
    "# Volume Plain plot\n",
    "fig = plt.figure(figsize=(20,25))\n",
    "for i in range(len(TechIndicator)):\n",
    "    ax = plt.subplot(len(TechIndicator),1,i+1)\n",
    "    ax.plot(TechIndicator[i].index, TechIndicator[i]['Volume_plain'], 'b')\n",
    "    ax.set_title(str(TechIndicator[i]['Label'][0]))\n",
    "    ax.set_xlabel(\"Date\")\n",
    "    ax.set_ylabel(\"Volume\")\n",
    "    plt.xticks(rotation=30)\n",
    "fig.tight_layout()"
   ]
  },
  {
   "cell_type": "markdown",
   "metadata": {
    "id": "JaQ2DNIOkLzP"
   },
   "source": [
    "Bollinger Bands"
   ]
  },
  {
   "cell_type": "code",
   "execution_count": null,
   "metadata": {
    "_uuid": "9d48c803230eab0a62b81047a4583cc25f60ed65",
    "colab": {
     "base_uri": "https://localhost:8080/",
     "height": 1000
    },
    "id": "Xps7sT1L78ax",
    "jupyter": {
     "outputs_hidden": true
    },
    "outputId": "24ceff99-c83c-435c-8bf9-0c8ac3568718"
   },
   "outputs": [],
   "source": [
    "plt.style.use('fivethirtyeight')\n",
    "\n",
    "fig = plt.figure(figsize=(20,25))\n",
    "for i in range(len(TechIndicator)):\n",
    "    ax = plt.subplot(4,2,i+1)\n",
    "    ax.fill_between(TechIndicator[i].index, TechIndicator[i]['BB_Upper_Band'], TechIndicator[i]['BB_Lower_Band'], color='grey', label=\"Band Range\")\n",
    "    # Plot Adjust Closing Price and Moving Averages\n",
    "    ax.plot(TechIndicator[i].index, TechIndicator[i]['Close'], color='red', lw=2, label=\"Close\")\n",
    "    ax.plot(TechIndicator[i].index, TechIndicator[i]['BB_Middle_Band'], color='black', lw=2, label=\"Middle Band\")\n",
    "    ax.set_title(\"Bollinger Bands for \" + str(TechIndicator[i]['Label'][0]))\n",
    "    ax.legend()\n",
    "    ax.set_xlabel(\"Date\")\n",
    "    ax.set_ylabel(\"Close Prices\")\n",
    "    plt.xticks(rotation=30)\n",
    "fig.tight_layout()\n",
    "#.dt.to_pydatetime()"
   ]
  },
  {
   "cell_type": "code",
   "execution_count": null,
   "metadata": {
    "_uuid": "962990bedf127881d21a38c28995097ce9888775",
    "colab": {
     "base_uri": "https://localhost:8080/",
     "height": 1000
    },
    "id": "vPboCmu878ay",
    "jupyter": {
     "outputs_hidden": true
    },
    "outputId": "362b0c62-92e9-44cf-87dd-c6959f35d824"
   },
   "outputs": [],
   "source": [
    "# Aroon Oscillator Plot\n",
    "plt.style.use('seaborn-whitegrid')\n",
    "fig = plt.figure(figsize=(20,25))\n",
    "for i in range(len(TechIndicator)):\n",
    "    ax = plt.subplot(4,2,i+1)\n",
    "    ax.fill(TechIndicator[i].index, TechIndicator[i]['Aroon_Oscillator'],'g', alpha = 0.5, label = \"Aroon Oscillator\")\n",
    "    ax.plot(TechIndicator[i].index, TechIndicator[i]['Close'], 'r', label=\"Close\")\n",
    "    ax.set_title(\"Aroon Oscillator for \" +str(TechIndicator[i]['Label'][0]))\n",
    "    ax.legend()\n",
    "    ax.set_xlabel(\"Date\")\n",
    "    ax.set_ylabel(\"Close Prices\")\n",
    "    plt.xticks(rotation=30)\n",
    "fig.tight_layout()"
   ]
  },
  {
   "cell_type": "code",
   "execution_count": null,
   "metadata": {
    "_uuid": "1dbba61c8a6d2c09a2c311816204b75e01de9efd",
    "colab": {
     "base_uri": "https://localhost:8080/",
     "height": 1000
    },
    "id": "-feIu6-F78ay",
    "jupyter": {
     "outputs_hidden": true
    },
    "outputId": "3e93fb7d-a0bc-4547-9887-14e8269bcb5c"
   },
   "outputs": [],
   "source": [
    "# PRice Volume Trend Plot\n",
    "fig = plt.figure(figsize=(20,25))\n",
    "for i in range(len(TechIndicator)):\n",
    "    ax = plt.subplot(8,1,i+1)\n",
    "    ax.plot(TechIndicator[i].index, TechIndicator[i]['PVT'], 'black')\n",
    "    ax.set_title(\"Price Volume Trend of \" +str(TechIndicator[i]['Label'][0]))\n",
    "    ax.set_xlabel(\"Date\")\n",
    "    ax.set_ylabel(\"Price Volume trend\")\n",
    "    plt.xticks(rotation=30)\n",
    "fig.tight_layout()"
   ]
  },
  {
   "cell_type": "code",
   "execution_count": null,
   "metadata": {
    "_uuid": "7128df90335550dd85f53ba1f60d41900d476e4f",
    "colab": {
     "base_uri": "https://localhost:8080/",
     "height": 1000
    },
    "id": "G8FcJTPW78ay",
    "jupyter": {
     "outputs_hidden": true
    },
    "outputId": "78d3bee9-5559-4561-8a1a-8db94c5ced95"
   },
   "outputs": [],
   "source": [
    "# Acceleration band Plot\n",
    "\n",
    "fig = plt.figure(figsize=(20,25))\n",
    "for i in range(len(TechIndicator)):\n",
    "    ax = plt.subplot(4,2,i+1)\n",
    "    ax.fill_between(TechIndicator[i].index, TechIndicator[i]['AB_Upper_Band'], TechIndicator[i]['AB_Lower_Band'], color='grey', label = \"Band-Range\")\n",
    "    # Plot Adjust Closing Price and Moving Averages\n",
    "    ax.plot(TechIndicator[i].index, TechIndicator[i]['Close'], color='red', lw=2, label = \"Close\")\n",
    "    ax.plot(TechIndicator[i].index, TechIndicator[i]['AB_Middle_Band'], color='black', lw=2, label=\"Middle_Band\")\n",
    "    ax.set_title(\"Acceleration Bands for \" + str(TechIndicator[i]['Label'][0]))\n",
    "    ax.legend()\n",
    "    ax.set_xlabel(\"Date\")\n",
    "    ax.set_ylabel(\"Close Prices\")\n",
    "    plt.xticks(rotation=30)\n",
    "fig.tight_layout()"
   ]
  },
  {
   "cell_type": "markdown",
   "metadata": {
    "_uuid": "c58e3b34479a363792123b26384ae4be7af9425f",
    "id": "A92e4Iyq78a3"
   },
   "source": [
    "# Making Predictions Using the Daily Close price\n",
    "## Let's predict Apple stock"
   ]
  },
  {
   "cell_type": "code",
   "execution_count": null,
   "metadata": {
    "_uuid": "79b3cefb42bda18852e57e9bec05cae68be12abe",
    "id": "HoK_9Xji78a3",
    "jupyter": {
     "outputs_hidden": true
    }
   },
   "outputs": [],
   "source": [
    "plt.figure(figsize=(16,6))\n",
    "plt.title('Close Price History for ' + str(TechIndicator[0]['Label'][0]))\n",
    "plt.plot(TechIndicator[0]['Close'])\n",
    "plt.xlabel('Date', fontsize=18)\n",
    "plt.ylabel('Close Price USD ($)', fontsize=18)\n",
    "plt.show()"
   ]
  },
  {
   "cell_type": "code",
   "execution_count": null,
   "metadata": {},
   "outputs": [],
   "source": [
    "# Create a new dataframe with only the 'Close column \n",
    "data = TechIndicator[0].filter(['Close'])\n",
    "# Convert the dataframe to a numpy array\n",
    "dataset = data.values\n",
    "# Get the number of rows to train the model on\n",
    "training_data_len = int(np.ceil( len(dataset) * .95 ))\n",
    "\n",
    "training_data_len"
   ]
  },
  {
   "cell_type": "code",
   "execution_count": null,
   "metadata": {},
   "outputs": [],
   "source": [
    "# Scale the data\n",
    "from sklearn.preprocessing import MinMaxScaler\n",
    "\n",
    "scaler = MinMaxScaler(feature_range=(0,1))\n",
    "scaled_data = scaler.fit_transform(dataset)\n",
    "\n",
    "scaled_data"
   ]
  },
  {
   "cell_type": "code",
   "execution_count": null,
   "metadata": {},
   "outputs": [],
   "source": [
    "# Create the training data set \n",
    "# Create the scaled training data set\n",
    "train_data = scaled_data[0:int( ), :]\n",
    "# Split the data into x_train and y_train data sets\n",
    "x_train = []\n",
    "y_train = []\n",
    "\n",
    "for i in range(60, len(train_data)):\n",
    "    x_train.append(train_data[i-60:i, 0])\n",
    "    y_train.append(train_data[i, 0])\n",
    "    if i<= 61:\n",
    "        print(x_train)\n",
    "        print(y_train)\n",
    "        print()\n",
    "        \n",
    "# Convert the x_train and y_train to numpy arrays \n",
    "x_train, y_train = np.array(x_train), np.array(y_train)\n",
    "\n",
    "# Reshape the data\n",
    "x_train = np.reshape(x_train, (x_train.shape[0], x_train.shape[1], 1))\n",
    "# x_train.shape"
   ]
  },
  {
   "cell_type": "code",
   "execution_count": null,
   "metadata": {},
   "outputs": [],
   "source": [
    "from keras.models import Sequential\n",
    "from keras.layers import Dense, LSTM\n",
    "\n",
    "# Build the LSTM model\n",
    "model = Sequential()\n",
    "model.add(LSTM(128, return_sequences=True, input_shape= (x_train.shape[1], 1)))\n",
    "model.add(LSTM(64, return_sequences=False))\n",
    "model.add(Dense(25))\n",
    "model.add(Dense(1))\n",
    "\n",
    "# Compile the model\n",
    "model.compile(optimizer='adam', loss='mean_squared_error',metrics=['accuracy'])\n",
    "\n",
    "# Train the model\n",
    "history = model.fit(x_train, y_train, batch_size=1, epochs=5)"
   ]
  },
  {
   "cell_type": "code",
   "execution_count": null,
   "metadata": {},
   "outputs": [],
   "source": [
    "# Create the testing data set\n",
    "\n",
    "test_data = scaled_data[training_data_len - 60: , :]\n",
    "# Create the data sets x_test and y_test\n",
    "x_test = []\n",
    "y_test = dataset[training_data_len:, :]\n",
    "for i in range(60, len(test_data)):\n",
    "    x_test.append(test_data[i-60:i, 0])\n",
    "    \n",
    "# Convert the data to a numpy array\n",
    "x_test = np.array(x_test)\n",
    "\n",
    "# Reshape the data\n",
    "x_test = np.reshape(x_test, (x_test.shape[0], x_test.shape[1], 1 ))\n",
    "\n",
    "# Get the models predicted price values \n",
    "predictions = model.predict(x_test)\n",
    "predictions = scaler.inverse_transform(predictions)\n",
    "\n",
    "# Get the root mean squared error (RMSE)\n",
    "rmse = np.sqrt(np.mean(((predictions - y_test) ** 2)))\n",
    "rmse"
   ]
  },
  {
   "cell_type": "code",
   "execution_count": null,
   "metadata": {},
   "outputs": [],
   "source": [
    "# Plot the data\n",
    "train = data[:training_data_len]\n",
    "valid = data[training_data_len:]\n",
    "valid['Predictions'] = predictions\n",
    "# Visualize the data\n",
    "plt.figure(figsize=(16,6))\n",
    "plt.title('Model for '  + str(TechIndicator[0]['Label'][0]))\n",
    "plt.xlabel('Date', fontsize=18)\n",
    "plt.ylabel('Close Price USD ($)', fontsize=18)\n",
    "plt.plot(train['Close'])\n",
    "plt.plot(valid[['Close', 'Predictions']])\n",
    "plt.legend(['Train', 'Val', 'Predictions'], loc='lower right')\n",
    "plt.show()"
   ]
  },
  {
   "cell_type": "code",
   "execution_count": null,
   "metadata": {
    "pycharm": {
     "name": "#%%\n"
    },
    "scrolled": true
   },
   "outputs": [],
   "source": [
    "# Show the valid and predicted prices\n",
    "valid.head()\n",
    "\n"
   ]
  },
  {
   "cell_type": "code",
   "execution_count": null,
   "metadata": {},
   "outputs": [],
   "source": [
    "valid['Close'].tail()"
   ]
  },
  {
   "cell_type": "code",
   "execution_count": null,
   "metadata": {},
   "outputs": [],
   "source": [
    "training_data_len"
   ]
  },
  {
   "cell_type": "code",
   "execution_count": null,
   "metadata": {},
   "outputs": [],
   "source": [
    "# Plot the data\n",
    "train = data[:training_data_len]\n",
    "valid = data[training_data_len:]\n",
    "valid['Prediction'] = predictions\n",
    "# Visualize the data\n",
    "plt.figure(figsize=(16,6))\n",
    "plt.title('Prediction Results for '  + str(TechIndicator[0]['Label'][0]))\n",
    "plt.xlabel('Date', fontsize=18)\n",
    "plt.ylabel('Close & Predicted Price USD ($)', fontsize=18)\n",
    "plt.plot(valid['Close'])\n",
    "plt.plot(valid['Prediction'])\n",
    "plt.legend(['Close','Prediction'], loc='lower right')\n",
    "plt.show()"
   ]
  },
  {
   "cell_type": "code",
   "execution_count": null,
   "metadata": {},
   "outputs": [],
   "source": [
    "import matplotlib.pyplot as plt\n",
    "import numpy as np\n",
    "import pandas as pd\n",
    "\n",
    "from sklearn.preprocessing import MinMaxScaler\n",
    "from keras.models import Sequential\n",
    "from keras.layers import Dense, Dropout, LSTM"
   ]
  },
  {
   "cell_type": "code",
   "execution_count": null,
   "metadata": {},
   "outputs": [],
   "source": [
    "dataset = yf.download('AAPL', start, end)\n",
    "dataset = dataset.reset_index()\n",
    "dataset['Date'] = pd.to_datetime(dataset.Date,format='%Y-%m-%d')\n",
    "dataset.index = dataset['Date']\n",
    "print(dataset)"
   ]
  },
  {
   "cell_type": "code",
   "execution_count": null,
   "metadata": {},
   "outputs": [],
   "source": []
  },
  {
   "cell_type": "code",
   "execution_count": null,
   "metadata": {},
   "outputs": [],
   "source": [
    "print(training_data_len)"
   ]
  },
  {
   "cell_type": "code",
   "execution_count": null,
   "metadata": {},
   "outputs": [],
   "source": [
    "dataset = dataset.sort_index(ascending=True, axis=0)\n",
    "dataset2 = pd.DataFrame(index=range(0,len(dataset)),columns=['Date', 'Close'])\n",
    "print(len(dataset2))\n",
    "for i in range(0,len(dataset)):\n",
    "    dataset2['Date'][i] = dataset['Date'][i]\n",
    "    dataset2['Close'][i] = dataset['Close'][i]\n",
    "    \n",
    "dataset2.index = dataset2.Date\n",
    "dataset2.drop('Date', axis=1, inplace = True)\n",
    "\n",
    "dataset3 = dataset2.values \n",
    "\n",
    "train = dataset3[:training_data_len]\n",
    "valid = dataset3[training_data_len:]\n",
    "#print(train)\n",
    "#print(valid)"
   ]
  },
  {
   "cell_type": "code",
   "execution_count": null,
   "metadata": {},
   "outputs": [],
   "source": [
    "\n",
    "# puts everything between (0,1)\n",
    "scaler = MinMaxScaler(feature_range=(0, 1))\n",
    "scaled_data = scaler.fit_transform(dataset3)\n",
    "#print(scaled_data)\n",
    "\n",
    "x_train, y_train = [], []\n",
    "for i in range(60,len(train)):\n",
    "    x_train.append(scaled_data[i-60:i,0])\n",
    "    y_train.append(scaled_data[i,0])\n",
    "x_train, y_train = np.array(x_train), np.array(y_train)\n",
    "\n",
    "x_train = np.reshape(x_train, (x_train.shape[0],x_train.shape[1],1))"
   ]
  },
  {
   "cell_type": "code",
   "execution_count": null,
   "metadata": {},
   "outputs": [],
   "source": [
    "model = Sequential()\n",
    "model.add(LSTM( units=1000, return_sequences = True, input_shape=(x_train.shape[1], 1)))\n",
    "model.add(LSTM(units=1000))\n",
    "model.add(Dense(1))\n",
    "\n",
    "model.compile(loss='mean_squared_error', optimizer='adam')\n",
    "model.fit(x_train, y_train, epochs=1, batch_size=1, verbose=2)"
   ]
  },
  {
   "cell_type": "code",
   "execution_count": null,
   "metadata": {},
   "outputs": [],
   "source": [
    "\n",
    "X_test = []\n",
    "for i in range(60,inputs.shape[0]):\n",
    "    X_test.append(inputs[i-60:i,0])\n",
    "X_test = np.array(X_test)\n",
    "\n",
    "X_test = np.reshape(X_test, (X_test.shape[0],X_test.shape[1],1))\n",
    "closing_price = model.predict(X_test)\n",
    "closing_price = scaler.inverse_transform(closing_price)\n",
    "#print(X_test.shape)\n",
    "\n",
    "train = dataset2[:training_data_len]\n",
    "valid = dataset2[training_data_len:]\n",
    "valid['Predictions'] = closing_price\n",
    "plt.figure(figsize=(20,10))\n",
    "plt.plot(train['Close'])\n",
    "plt.plot(valid[['Close','Predictions']])"
   ]
  },
  {
   "cell_type": "code",
   "execution_count": null,
   "metadata": {},
   "outputs": [],
   "source": []
  },
  {
   "cell_type": "code",
   "execution_count": null,
   "metadata": {},
   "outputs": [],
   "source": []
  },
  {
   "cell_type": "code",
   "execution_count": null,
   "metadata": {},
   "outputs": [],
   "source": []
  }
 ],
 "metadata": {
  "colab": {
   "include_colab_link": true,
   "provenance": []
  },
  "kernelspec": {
   "display_name": "Python 3 (ipykernel)",
   "language": "python",
   "name": "python3"
  },
  "language_info": {
   "codemirror_mode": {
    "name": "ipython",
    "version": 3
   },
   "file_extension": ".py",
   "mimetype": "text/x-python",
   "name": "python",
   "nbconvert_exporter": "python",
   "pygments_lexer": "ipython3",
   "version": "3.8.0"
  },
  "pycharm": {
   "stem_cell": {
    "cell_type": "raw",
    "metadata": {
     "collapsed": false
    },
    "source": []
   }
  }
 },
 "nbformat": 4,
 "nbformat_minor": 1
}
